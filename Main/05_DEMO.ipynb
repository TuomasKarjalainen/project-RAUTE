{
 "cells": [
  {
   "cell_type": "markdown",
   "id": "d90752a6-6486-4e22-a544-6a8285bc4751",
   "metadata": {},
   "source": [
    "# Sprint 5 - DEMO\n",
    "## Team Network Training"
   ]
  },
  {
   "cell_type": "markdown",
   "id": "d0c3e9a2-e0b1-41a6-b332-6723a7af1569",
   "metadata": {},
   "source": [
    "# 1 Datan esikäsittely ja manipulointi"
   ]
  },
  {
   "cell_type": "markdown",
   "id": "345426e9-e3eb-4fb0-b649-fcb78d237776",
   "metadata": {},
   "source": [
    "## 1.1 Density-sensoreiden ongelmatapaus korjattu"
   ]
  },
  {
   "cell_type": "markdown",
   "id": "b11fc25b-0a5a-4779-8b82-6ece57b83852",
   "metadata": {},
   "source": [
    "Viime viikolla havaittu vinoumaa aiheuttava tiheyssensoreiden ongelmatapaus on nyt korjattu."
   ]
  },
  {
   "cell_type": "markdown",
   "id": "b489b424-4cf1-4650-869c-39774d82c3b4",
   "metadata": {},
   "source": [
    "### 1.1.1 Viime viikon asetelma"
   ]
  },
  {
   "cell_type": "markdown",
   "id": "01d1371c-5a67-4e51-83a4-0279ddf16ae5",
   "metadata": {},
   "source": [
    "![image](https://gitlab.dclabra.fi/wiki/uploads/upload_19908f73c3499bc2dcf4299792cac78c.png)\n",
    "\n",
    "![image](https://gitlab.dclabra.fi/wiki/uploads/upload_2c10a50497f1310b63a07481176cd2f2.png)"
   ]
  },
  {
   "cell_type": "markdown",
   "id": "e4d53589-2bdb-4e8c-83cc-96c56b34daf8",
   "metadata": {},
   "source": [
    "### 1.1.2 Tilanne nyt - esimerkkiblokki"
   ]
  },
  {
   "cell_type": "markdown",
   "id": "7bd9ccc4-011f-400c-83fb-47d7ee9c79a4",
   "metadata": {},
   "source": [
    "```python\n",
    "# Block 1 \n",
    "if (len(B1_density)<5):      \n",
    "    if (len(B4_density) >= (len(B7_density))): \n",
    "        B1DensityAvg = B4_density['Density'].mean()\n",
    "        return B1DensityAvg            \n",
    "    else:\n",
    "        B1DensityAvg = B7_density['Density'].mean()\n",
    "        return B1DensityAvg\n",
    "```"
   ]
  },
  {
   "cell_type": "markdown",
   "id": "2ae2508a-e401-42d8-9f0a-5a3b88c21b72",
   "metadata": {},
   "source": [
    "## 1.2 Jäljelle jäävät NaN-arvot ja väärään suuntaan \"kutistuvat\" arkit"
   ]
  },
  {
   "cell_type": "markdown",
   "id": "a8450e60-88ff-4dfd-8548-d6afabfc6aff",
   "metadata": {},
   "source": [
    "Viime viikolla NaN-arvoja sisältävät rivit ja ylisuuren kutistuma-arvon sisältämät rivit pääsivät vielä läpi piirrematriisiin. Tämä on nyt korjattu piirrematriisin muodostusfunktiossa lisäämällä sinne tarpeelliset tarkistukset. Lopputulemana alkuperäisestä 146 rivistä päädyttiin 137 riviin."
   ]
  },
  {
   "cell_type": "markdown",
   "id": "1cdc8b70-77d8-4fd4-a144-7de0e8c347fc",
   "metadata": {},
   "source": [
    "### 1.2.1 Esimerkkikuva viime viikolla läpi päässeistä arvoista"
   ]
  },
  {
   "cell_type": "markdown",
   "id": "6ad35b61-04bf-4c4f-a0a3-02d91ebe43f3",
   "metadata": {},
   "source": [
    "![image](https://gitlab.dclabra.fi/wiki/uploads/upload_ad95e29d3c093877e3ed2214df719df4.png)"
   ]
  },
  {
   "cell_type": "markdown",
   "id": "9b26c398-559a-4ff6-b87a-7dada298c111",
   "metadata": {},
   "source": [
    "### 1.2.2 Tarkistukset piirrematriisia muodostettaessa"
   ]
  },
  {
   "cell_type": "markdown",
   "id": "86cf027c-c7a0-464f-a9f9-74404767e600",
   "metadata": {},
   "source": [
    "```python\n",
    "# Checking for NaNs in current_row of feature matrix, if True don't append but skip (except for last row there is different behaviour)\n",
    "if current_row.iloc[0].isna().any(axis=0) == True:\n",
    "    nan_rows.append(peel_file)\n",
    "    if printProgress == True: print(f\"{i}/{amount_of_files}\\tdropped nan-rows {len(nan_rows)}\\tdropped too big shrinkage rows {len(shrinkage_above_one)}\",end=\"\\r\")\n",
    "    if i != length-1:\n",
    "        continue\n",
    "    elif i == length-1:\n",
    "        skip_last_row = 1\n",
    "        \n",
    "######\n",
    "######\n",
    "\n",
    "# Sanity checking dryShrinkage, if doesn't pass don't append but skip (except for last row there is different behaviour)\n",
    "if dry_data.iloc[0]['dryShrinkage'] > 1:\n",
    "    shrinkage_above_one.append(dry_file)\n",
    "    if printProgress == True: print(f\"{i}/{amount_of_files}\\tdropped nan-rows {len(nan_rows)}\\tdropped too big shrinkage rows {len(shrinkage_above_one)}\",end=\"\\r\")\n",
    "    if i != length-1:\n",
    "        continue\n",
    "    elif i == length-1:\n",
    "        skip_last_row = 1\n",
    "```"
   ]
  },
  {
   "cell_type": "markdown",
   "id": "0dbe6502-9a59-424a-a224-c671ac51b963",
   "metadata": {},
   "source": [
    "## 1.3 Loppukosteuden ottaminen mukaan piirrematriisiin"
   ]
  },
  {
   "cell_type": "markdown",
   "id": "e8081647-7fe6-4a3f-a68a-6a3d7b8ab1aa",
   "metadata": {},
   "source": [
    "Nyt kuiva-arkin kosteusprosentti on myös lisätty piirrematriisiin ja neuroverkon opetukseen mukaan."
   ]
  },
  {
   "cell_type": "markdown",
   "id": "6258f506-5f9f-4e31-a217-f1510d4b15fc",
   "metadata": {},
   "source": [
    "![image](https://gitlab.dclabra.fi/wiki/uploads/upload_881892481ee4aa4fe15da82dad5e84dd.png)"
   ]
  },
  {
   "cell_type": "markdown",
   "id": "8ede2ec9-4531-4c27-bc33-2be5cf922839",
   "metadata": {},
   "source": [
    "## 1.4 traindevtest-sarake - varautuminen jättikokoisiin datasetteihin"
   ]
  },
  {
   "cell_type": "markdown",
   "id": "b1c7b3b3-81c3-42c4-a895-84a552b59e27",
   "metadata": {},
   "source": [
    "Piirrematriisiin lisätään myös traindevtest-sarake, jolla varaudutaan todella suuriin datasetteihin. Eli jos datasetti ei mahdu muistiin kerralla, kuuluminen opetus-, testi- ja validointisetteihin määritetään tämän sarakkeen perusteella. Itse sarakkeen arvot eivät tule mukaan opetukseen."
   ]
  },
  {
   "cell_type": "markdown",
   "id": "a551bcf7-a055-4faf-8d3d-df2a3c2ea2b1",
   "metadata": {},
   "source": [
    "```python\n",
    "current_row['traindevtest']= np.random.choice([1,2,3],size=1,p=[0.8,0.1,0.1])\n",
    "```"
   ]
  },
  {
   "cell_type": "markdown",
   "id": "059daf3e-4f3a-42d1-bfc7-2c2a1fdd224b",
   "metadata": {},
   "source": [
    "![image](https://gitlab.dclabra.fi/wiki/uploads/upload_1e4543993dcf893e027a5c82d7659c6e.png)"
   ]
  },
  {
   "cell_type": "markdown",
   "id": "1187b484-c2c6-4a99-bbce-f8fe15fd936f",
   "metadata": {},
   "source": [
    "# 2 Tietokantaan puskeminen"
   ]
  },
  {
   "cell_type": "markdown",
   "id": "f499f438-4d0c-41bc-ae8a-5ed661d12270",
   "metadata": {},
   "source": [
    "![image](https://gitlab.dclabra.fi/wiki/uploads/upload_dfafad96beeb0efd68463cf15723805e.png)"
   ]
  },
  {
   "cell_type": "markdown",
   "id": "848454dd-dc11-4543-9e05-347d721dcf62",
   "metadata": {},
   "source": [
    "- Integroitu osaksi full feature matrixia\n",
    "- Puskee datan chunkeissa tai kaiken kerralla\n",
    "    - Tällä hetkellä feature ja target -taulut erikseen, kun käytetään chunkitusta\n",
    "    - Tulossa vaihtoehdoksi se, että kaikki menee samaan tauluun chunkituksessa\n",
    "- Kakkostiimille on puskettu tietokantaan augmentoitu noin 500k setti\n",
    "- Funktiot on mahdollista antaa kakkostiimille testattavaksi\n",
    "- Tulossa (ehkä)\n",
    "    - Augmentoinnin integrointi full feature matrixiin ja tietokantaan puskemiseen"
   ]
  },
  {
   "cell_type": "markdown",
   "id": "c7bf8933-a4ab-4788-890a-3c4c30cfbe2e",
   "metadata": {},
   "source": [
    "Dokumentointi löytyy jälleen CodiMD:stä: [MariaDB-kontin pystyttäminen ja tietokantayhteyden muodostaminen](https://gitlab.dclabra.fi/wiki/Lhfjb-cJRFaSA_bvMb5eUg) ja [Kontin pystyttäminen Dockerfilen avulla](https://gitlab.dclabra.fi/wiki/QbEaq9AKSPmc3485Lk1mfw)."
   ]
  },
  {
   "cell_type": "markdown",
   "id": "c2b952c8-f7fc-4b9b-acb5-bd19d5a41edb",
   "metadata": {},
   "source": [
    "# 3 Neuroverkko"
   ]
  },
  {
   "cell_type": "markdown",
   "id": "9ac3ce3f-4665-4c20-93d0-9f64ce572797",
   "metadata": {
    "tags": []
   },
   "source": [
    "## 3.1 Funktio, jolla parametrien testailun voi tehdä systemaattisesti"
   ]
  },
  {
   "cell_type": "markdown",
   "id": "b7c8fcc6-c386-4eed-a068-55be9fb20531",
   "metadata": {},
   "source": [
    "- Neural_Network.py\n",
    "    - Testerifunktio, jolla voi systemaattisesti testata eri parametrejä\n",
    "    - Lähdettiin systemaattisesti testaamaan\n",
    "        - Testattu suurelta osin augmentoidulla setillä\n",
    "        - Original setillä alustavia tuloksia\n",
    "    - Dropout lisättiin ihan vasta, ei vielä testejä sen kanssa\n",
    "    - Kakkostiimille on helppo nakata tästä sitten tallennettu malli\n",
    "- ipynb-tiedosto, jolla testit ajetaan\n",
    "- Tallentaa tulokset csv-tiedostoihin\n",
    "- CodiMD:ssä [taulukko](https://gitlab.dclabra.fi/wiki/U5V_dx7QRnq-Q4n29G11NQ), johon tuloksia kirjataan"
   ]
  },
  {
   "cell_type": "markdown",
   "id": "1d090f7d-82f0-4397-a01d-42a98a41d78b",
   "metadata": {},
   "source": [
    "## 3.2 Tuloksia taulukkoon"
   ]
  },
  {
   "cell_type": "markdown",
   "id": "b0690606-6dcc-4e63-aaaf-0eaecf51b6b3",
   "metadata": {},
   "source": [
    "| Tester       | `epochs` | `loss/criterion` | `norm`       | `hidden_sizes`                        | `lr`       | `test_size` | `dropout` | `optimizer` | `val_mae`    | `val_mape`   | `val_mse`    |\n",
    "| ------------ | -------- | ---------------- | ------------ | ------------------------------------- | ---------- | ----------- | --------- | ----------- | ------------ | ------------ | ------------ |\n",
    "| **Original** | **5**    | **mse**          | **standard** | **[64,32,16]**                        | **0.001**  | **0.2**     |           | **rmsprop** | 0.004831     | 0.523477     | 0.000027     |\n",
    "| Tuomas       | 5        | mse              | standard     | [64,32,16]                            | 0.001      | 0.2         |           | **Adam**    | 0.001033     | 0.112150     | 0.000002     |\n",
    "| Tuomas       | 5        | mse              | standard     | [64,32,16]                            | 0.001      | 0.2         |           | SGD         | 0.024483     | 2.653333     | 0.001004     |\n",
    "| Tuomas       | 5        | mse              | standard     | [64,32,16]                            | 0.001      | 0.2         |           | Adadelta    | 0.075339     | 8.173112     | 0.009347     |\n",
    "| Tuomas       | 5        | mse              | standard     | [64,32,16]                            | 0.001      | 0.2         |           | Adagrad     | 0.023572     | 2.554444     | 0.000987     |\n",
    "|              |          |                  |              |                                       |            |             |           |             |              |              |              |\n",
    "| Anssi        | 5        | mse              | standard     | [64,32,16]                            | 0.001      | 0.2         |           | rmsprop     | 0.004831     | 0.523477     | 0.000027     |\n",
    "| Anssi        | 5        | mse              | standard     | [128,64,32,16]                        | 0.001      | 0.2         |           | rmsprop     | 0.003005     | 0.326464     | 0.000011     |\n",
    "| Anssi        | 5        | mse              | standard     | **[256,128,64,32,16]**                | 0.001      | 0.2         |           | rmsprop     | 0.001535     | 0.167503     | 0.000004     |\n",
    "| Anssi        | 5        | mse              | standard     | [512,256,128,64,32,16]                | 0.001      | 0.2         |           | rmsprop     | 0.002315     | 0.250118     | 0.000007     |\n",
    "| Anssi        | 5        | mse              | standard     | [1024,512,256,128,64,32,16]           | 0.001      | 0.2         |           | rmsprop     | 0.001811     | 0.196899     | 0.000005     |\n",
    "| Anssi        | 5        | mse              | standard     | [2048,1024,512,256,128,64,32,16]      | 0.001      | 0.2         |           | rmsprop     | 0.002870     | 0.311318     | 0.000010     |\n",
    "| Anssi        | 5        | mse              | standard     | [4096,2048,1024,512,256,128,64,32,16] | 0.001      | 0.2         |           | rmsprop     | 0.001951     | 0.211939     | 0.000005     |\n",
    "| Anssi        | 5        | mse              | standard     | [256,128,64,32]                       | 0.001      | 0.2         |           | rmsprop     | 0.005735     | 0.624093     | 0.000050     |\n",
    "| Anssi        | 5        | mse              | standard     | [128,128,64,32]                       | 0.001      | 0.2         |           | rmsprop     | 0.002507     | 0.275060     | 0.000024     |\n",
    "| Anssi        | 5        | mse              | standard     | [128,128,64,32,16]                    | 0.001      | 0.2         |           | rmsprop     | 0.002823     | 0.306779     | 0.000010     |\n",
    "| Anssi        | 5        | mse              | standard     | *[128,64,32,16,8]*                    | 0.001      | 0.2         |           | rmsprop     | 0.001798     | 0.195366     | 0.000005     |\n",
    "| Anssi        | 5        | mse              | standard     | [32,16,8]                             | 0.001      | 0.2         |           | rmsprop     | 0.003178     | 0.345829     | 0.000014     |\n",
    "| Anssi        | 5        | mse              | standard     | [64,32,16,8]                          | 0.001      | 0.2         |           | rmsprop     | 0.003460     | 0.374723     | 0.000014     |\n",
    "| Anssi        | 5        | mse              | standard     | [128,64,32,16,8]                      | 0.001      | 0.2         |           | rmsprop     | 0.002270     | 0.246705     | 0.000007     |\n",
    "| Anssi        | 5        | mse              | standard     | [256,256,128,64,32]                   | 0.001      | 0.2         |           | rmsprop     | 0.002257     | 0.245815     | 0.000007     |\n",
    "| Anssi        | 5        | mse              | standard     | [512,256,128,64,32]                   | 0.001      | 0.2         |           | rmsprop     | 0.004002     | 0.433518     | 0.000021     |\n",
    "|              |          |                  |              |                                       |            |             |           |             |              |              |              |\n",
    "| Krista       | 5        | mse              | standard     | [64,32,16]                            | 0.008      | 0.2         |           | rmsprop     | 0.011143     | 1.231145     | 0.000352     |\n",
    "| Krista       | 5        | mse              | standard     | [64,32,16]                            | 0.005      | 0.2         |           | rmsprop     | 0.004899     | 0.533809     | 0.000067     |\n",
    "| Krista       | 5        | mse              | standard     | [64,32,16]                            | 0.002      | 0.2         |           | rmsprop     | 0.002690     | 0.296458     | 0.000053     |\n",
    "| Krista       | 5        | mse              | standard     | [64,32,16]                            | 0.0018     | 0.2         |           | rmsprop     | 0.001436     | 0.157151     | 0.000005     |\n",
    "| Krista       | 5        | mse              | standard     | [64,32,16]                            | 0.00175    | 0.2         |           | rmsprop     | 0.002422     | 0.262943     | 0.000009     |\n",
    "| Krista       | 5        | mse              | standard     | [64,32,16]                            | **0.0017** | 0.2         |           | rmsprop     | 0.001270     | 0.138381     | 0.000004     |\n",
    "| Krista       | 5        | mse              | standard     | [64,32,16]                            | 0.00165    | 0.2         |           | rmsprop     | 0.003694     | 0.401318     | 0.000017     |\n",
    "| Krista       | 5        | mse              | standard     | [64,32,16]                            | 0.0016     | 0.2         |           | rmsprop     | 0.002894     | 0.314134     | 0.000012     |\n",
    "| Krista       | 5        | mse              | standard     | [64,32,16]                            | 0.0015     | 0.2         |           | rmsprop     | 0.002234     | 0.242284     | 0.000007     |\n",
    "| Krista       | 5        | mse              | standard     | [64,32,16]                            | 0.0009     | 0.2         |           | rmsprop     | 0.003447     | 0.372776     | 0.000014     |\n",
    "| Krista       | 5        | mse              | standard     | [256,128,64,32,16]                    | 0.0015     | 0.2         |           | Adam        | 0.001070     | 0.116340     | 0.000002     |\n",
    "|              |          |                  |              |                                       |            |             |           |             |              |              |              |\n",
    "| Kosti        | 5        | mse              | minmax       | [64,32,16]                            | 0.001      | 0.2         |           | rmsprop     | 0.002200     | 0.235100     | 0.000007     |\n",
    "| Kosti        | 5        | mae              | minmax       | [64,32,16]                            | 0.001      | 0.2         |           | rmsprop     | 0.001724     | 0.187597     | 0.000005     |\n",
    "| Kosti        | 5        | mape             | minmax       | [64,32,16]                            | 0.001      | 0.2         |           | rmsprop     | 0.003130     | 0.340189     | 0.000013     |\n",
    "| Kosti        | 5        | mae              | standard     | [64,32,16]                            | 0.001      | 0.2         |           | rmsprop     | 0.002991     | 0.324600     | 0.000012     |\n",
    "| Kosti        | 5        | mape             | standard     | [64,32,16]                            | 0.001      | 0.2         |           | rmsprop     | 0.004034     | 0.436996     | 0.000023     |\n",
    "| Kosti        | 5        | mae              | minmax       | [256, 128, 64,32,16]                  | 0.001      | 0.2         |           | rmsprop     | 0.002801     | 0.303454     | 0.000010     |\n",
    "| Kosti        | 5        | mape             | minmax       | [256, 128, 64,32,16]                  | 0.001      | 0.2         |           | rmsprop     | 0.002590     | 0.280015     | 0.000009     |\n",
    "| Kosti        | 5        | mape             | minmax       | [256, 128, 64,32,16]                  | 0.001      | 0.5         |           | Adam        | 0.001062     | 0.115386     | 0.000002     |\n",
    "|              |          |                  |              |                                       |            |             |           |             |              |              |              |\n",
    "| **Tuomas**   | **5**    | **mse**          | **standard** | **[256,128,64,32,16]**                | **0.001**  | **0.2**     |           | **Adam**    | **0.000945** | **0.102499** | **0.000001** |\n",
    "| Anssi        | 5        | mse              | standard     | [128,64,32,16,8]                      | 0.001      | 0.2         |           | Adam        | 0.001061     | 0.114933     | 0.000002     |\n",
    "| Tuomas       | 5        | mse              | standard     | [256,128,64,32,16]                    | 0.0017     | 0.2         |           | Adam        | 0.000976     | 0.105860     | 0.000001     |\n",
    "| Anssi        | 5        | mse              | standard     | [128,64,32,16,8]                      | 0.0017     | 0.2         |           | Adam        | 0.001299     | 0.140530     | 0.000003     |\n",
    "| Anssi        | 5        | mse              | minmax       | [256,128,64,32,16]                    | 0.001      | 0.2         |           | rmsprop     | 0.003843     | 0.416618     | 0.000016     |\n",
    "| Anssi        | 5        | mse              | minmax       | [256,128,64,32,16]                    | 0.001      | 0.2         |           | Adam        | 0.001016     | 0.110251     | 0.000002     |\n",
    "| Anssi        | 5        | mse              | standard     | [256,128,64,32,16]                    | 0.001      | 0.9         |           | Adam        | 0.002015\t    | 0.218510\t   | 0.000007     |\n",
    "|              |          |                  |              |                                       |            |             |           |             |              |              |              |\n",
    "| Kosti        | 5        | mse              | standard     | [256,128,64,32,16]                    | 0.0008     | 0.2         |           | Adam        | 0.001024     | 0.11036      | 0.000002     |\n",
    "| Kosti        | 5        | mse              | standard     | [256,128,64,32,16]                    | 0.0009     | 0.2         |           | Adam        | 0.001016     | 0.109957     | 0.000001     |\n",
    "| Kosti        | 5        | mse              | standard     | [256,128,64,32,16]                    | 0.0011     | 0.2         |           | Adam        | 0.000973     | 0.105818     | 0.000001     |\n",
    "| Kosti        | 5        | mse              | standard     | [256,128,64,32,16]                    | 0.0012     | 0.2         |           | Adam        | 0.001013     | 0.109691     | 0.000001     |\n",
    "| Kosti        | 5        | mse              | standard     | [256,128,64,32,16]                    | 0.0013     | 0.2         |           | Adam        | 0.001983     | 0.215015     | 0.000005\t  |\n",
    "| Kosti        | 5        | mse              | minmax       | [256,128,64,32,16]                    | 0.0008     | 0.2         |           | Adam        | 0.001283     | 0.139201     | 0.000003     |\n",
    "| Kosti        | 5        | mse              | minmax       | [256,128,64,32,16]                    | 0.0009     | 0.2         |           | Adam        | 0.001019     | 0.110371     | 0.000002     |\n",
    "| Kosti        | 5        | mse              | minmax       | [256,128,64,32,16]                    | 0.0011     | 0.2         |           | Adam        | 0.001043     | 0.113343     | 0.000002\t  |\n",
    "| Kosti        | 5        | mse              | minmax       | [256,128,64,32,16]                    | 0.0012     | 0.2         |           | Adam        | 0.001044\t    | 0.113346     | 0.000002     |\n",
    "| Kosti        | 5        | mse              | minmax       | [256,128,64,32,16]                    | 0.0013     | 0.2         |           | Adam        | 0.000955     | 0.103464     | 0.000001     |\n",
    "|              |          |                  |              |                                       |            |             |           |             |              |              |              |\n",
    "| Krista       | 5        | mse              | standard     | [256,128,64,32,16]                    | 0.001      | 0.2         | 0.2       | Adam        | 0.002442     | 0.270912     | 0.000024     |\n",
    "| Krista       | 5        | mse              | standard     | [256,128,64,32,16]                    | 0.001      | 0.2         | 0.3       | Adam        | 0.006778     | 0.734300     | 0.000083     |\n",
    "| Krista       | 5        | mse              | standard     | [256,128,64,32,16]                    | 0.001      | 0.2         | 0.4       | Adam        | 0.007380     | 0.819544     | 0.000219     |\n",
    "| Krista       | 5        | mse              | standard     | [256,128,64,32,16]                    | 0.001      | 0.2         | 0.5       | Adam        | 0.009656     | 1.051882     | 0.000165     |\n",
    "|              |          |                  |              |                                       |            |             |           |             |              |              |              |\n",
    "|              |          |                  |              |                                       |            |             |           |             |              |              |              |\n",
    "|              |          |                  |              |                                       |            |             |           |             |              |              |              |"
   ]
  },
  {
   "cell_type": "markdown",
   "id": "0318775f-2e8b-4b1d-863a-3fe34a690d1a",
   "metadata": {},
   "source": [
    "## 3.3 Opetuksen jälkeen testaus alkuperäisellä datalla"
   ]
  },
  {
   "cell_type": "markdown",
   "id": "e50ec0fe-be7a-454c-bd60-f0e8afb5e51c",
   "metadata": {},
   "source": [
    "### 3.3.1 Alkuperäinen data on ollut augmentoidun datan seassa mukana"
   ]
  },
  {
   "cell_type": "markdown",
   "id": "80c4fb7e-efcb-4207-afb4-5e98f93372ff",
   "metadata": {},
   "source": [
    "![image](https://cdn.discordapp.com/attachments/898181430776037386/916277181309673502/unknown.png)"
   ]
  },
  {
   "cell_type": "markdown",
   "id": "fc3d3685-aee3-4c0f-b99d-63a6efc0328c",
   "metadata": {},
   "source": [
    "### 3.3.2 Alkuperäinen data ei ole ollut augmentoidun datan seassa mukana"
   ]
  },
  {
   "cell_type": "markdown",
   "id": "dcf7d248-bcd7-4623-8b77-4dfd081b4255",
   "metadata": {},
   "source": [
    "![image](https://cdn.discordapp.com/attachments/898181430776037386/916277118248292373/unknown.png)"
   ]
  },
  {
   "cell_type": "markdown",
   "id": "bb81e391-882a-486b-8eee-66aac0e603b8",
   "metadata": {},
   "source": [
    "![image](https://cdn.discordapp.com/attachments/773834983960870952/916279333541269504/unknown.png)"
   ]
  },
  {
   "cell_type": "code",
   "execution_count": null,
   "id": "876e8998-f4b9-4f99-83a6-0a0173fe0585",
   "metadata": {},
   "outputs": [],
   "source": []
  }
 ],
 "metadata": {
  "kernelspec": {
   "display_name": "Python 3 (ipykernel)",
   "language": "python",
   "name": "python3"
  },
  "language_info": {
   "codemirror_mode": {
    "name": "ipython",
    "version": 3
   },
   "file_extension": ".py",
   "mimetype": "text/x-python",
   "name": "python",
   "nbconvert_exporter": "python",
   "pygments_lexer": "ipython3",
   "version": "3.9.6"
  }
 },
 "nbformat": 4,
 "nbformat_minor": 5
}
