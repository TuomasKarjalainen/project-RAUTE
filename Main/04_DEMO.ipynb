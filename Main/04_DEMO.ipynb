{
 "cells": [
  {
   "cell_type": "markdown",
   "id": "d90752a6-6486-4e22-a544-6a8285bc4751",
   "metadata": {},
   "source": [
    "# Sprint 4 - DEMO\n",
    "## Team Network Training"
   ]
  },
  {
   "cell_type": "markdown",
   "id": "d0c3e9a2-e0b1-41a6-b332-6723a7af1569",
   "metadata": {},
   "source": [
    "# 1 Datan esikäsittely ja manipulointi"
   ]
  },
  {
   "cell_type": "markdown",
   "id": "345426e9-e3eb-4fb0-b649-fcb78d237776",
   "metadata": {},
   "source": [
    "## 1.1 Sensoreista pois jääneet arvot nyt mukana"
   ]
  },
  {
   "cell_type": "markdown",
   "id": "b11fc25b-0a5a-4779-8b82-6ece57b83852",
   "metadata": {},
   "source": [
    "Viime viikolla havaittu blokkien jakolinjoille osuvien sensorimerkintöjen katoaminen, on nyt korjattu."
   ]
  },
  {
   "cell_type": "markdown",
   "id": "b489b424-4cf1-4650-869c-39774d82c3b4",
   "metadata": {},
   "source": [
    "### 1.1.1 Viime viikon asetelma"
   ]
  },
  {
   "cell_type": "markdown",
   "id": "01d1371c-5a67-4e51-83a4-0279ddf16ae5",
   "metadata": {},
   "source": [
    "![image](https://gitlab.dclabra.fi/wiki/uploads/upload_e7e2ab822770a9b65385356926a33b25.png)"
   ]
  },
  {
   "cell_type": "markdown",
   "id": "e4d53589-2bdb-4e8c-83cc-96c56b34daf8",
   "metadata": {},
   "source": [
    "### 1.1.2 Tilanne nyt"
   ]
  },
  {
   "cell_type": "markdown",
   "id": "7bd9ccc4-011f-400c-83fb-47d7ee9c79a4",
   "metadata": {},
   "source": [
    "![image](https://gitlab.dclabra.fi/wiki/uploads/upload_e79e760634590f636e202d73be351d6a.png)"
   ]
  },
  {
   "cell_type": "markdown",
   "id": "4dd41e04-a518-42a0-a3d5-e21a291b6354",
   "metadata": {},
   "source": [
    "Ongelman kuvaus ja ratkaisu tarkemmin [CodiMD-dokumentaatiossa](https://gitlab.dclabra.fi/wiki/749Ptaf9QY6oxPqy1qpULQ?view#22-Blokkeihin-jaossa-ilmenneet-ongelmat)."
   ]
  },
  {
   "cell_type": "markdown",
   "id": "1cc1eb4b-1e68-4e22-b53c-a3c69d9b6ff5",
   "metadata": {},
   "source": [
    "## 1.2 Tiheyssensoreiden laskeminen tilanteissa, joissa osa sensorimerkinnöistä puuttuu"
   ]
  },
  {
   "cell_type": "markdown",
   "id": "88261d0c-adc6-4468-b9ee-63a59146a818",
   "metadata": {},
   "source": [
    "Viime viikolla havaittiin, että osa tiheyssensorimerkinnöistä puuttuu kokonaan. Tämä tuotti dataan rivejä, jotka sisälsivät NaN-arvoja, koska alkuperäinen laskentakaava ei ottanut huomioon puuttuvien sensoreiden tilannetta. Datan pelastamiseksi laadittiin `densityCheck()`-funktio, joka katsoo sensoreiden kokonaismäärän ja lisäksi uniikkien x-koordinaattien määrän. Tämän perusteella funktio arvioi, meneekö arkki läpi sellaisenaan, käynnistetäänkö pelastustoimet vai annetaanko arkille päätyä NaN-arvoja (jolloin arkki hylätään myöhemmin)."
   ]
  },
  {
   "cell_type": "markdown",
   "id": "a1d9d706-5736-49dd-b8dd-903327b25618",
   "metadata": {},
   "source": [
    "### 1.2.1 Esimerkkikuvia viime viikolla havaitusta ongelmasta"
   ]
  },
  {
   "cell_type": "markdown",
   "id": "54ccbe46-e49d-4acf-a734-a6ef4ae97daa",
   "metadata": {},
   "source": [
    "#### 1.2.1.1 Esimerkkitilanteita, jotka pelastetaan nykyään"
   ]
  },
  {
   "cell_type": "markdown",
   "id": "c82cb9b4-0ba5-4078-b057-eee430a655ae",
   "metadata": {},
   "source": [
    "![image](https://gitlab.dclabra.fi/wiki/uploads/upload_a82dc09afebdd82adaaa51af77f0a225.png)\n",
    "![image](https://gitlab.dclabra.fi/wiki/uploads/upload_fa1b71c22fe192c2a81950e5b370049f.png)\n",
    "![image](https://gitlab.dclabra.fi/wiki/uploads/upload_b6c49d3ef7b13799192135595bd87d3c.png)"
   ]
  },
  {
   "cell_type": "markdown",
   "id": "d8d60f3d-255f-4fb7-baed-458adf455e75",
   "metadata": {},
   "source": [
    "#### 1.2.1.2 Esimerkkitilanteita, joita ei oteta mukaan"
   ]
  },
  {
   "cell_type": "markdown",
   "id": "78dba862-400d-43fb-9c4a-026d947a2717",
   "metadata": {},
   "source": [
    "![image](https://gitlab.dclabra.fi/wiki/uploads/upload_0fc50aa97ef43aa3621b7866825b8929.png)\n",
    "![image](https://gitlab.dclabra.fi/wiki/uploads/upload_448f8a5719213612a43eaca1732c468e.png)"
   ]
  },
  {
   "cell_type": "markdown",
   "id": "a5874021-ec7c-41f9-8ea6-520c1f91a307",
   "metadata": {},
   "source": [
    "### 1.2.2 Sanity check tiheyssensoreiden arvoille pelastusoperaation jälkeen"
   ]
  },
  {
   "cell_type": "markdown",
   "id": "954b181a-990e-4b23-b098-877f7db1e8a0",
   "metadata": {},
   "source": [
    "#### 1.2.2.1 Tiheysarvojen visualisointi"
   ]
  },
  {
   "cell_type": "markdown",
   "id": "4b415591-56da-40e1-98ac-4f1f59b13734",
   "metadata": {},
   "source": [
    "Pelastusoperaation jälkeen tehtiin niin sanottu sanity check -tiheyssensoreiden arvoille, jotta varmistuttaisiin, näyttävätkö ne järkeviltä. Alla havainnollistava kuva arvojen vaihtelusta.\n",
    "\n",
    "![image](https://gitlab.dclabra.fi/wiki/uploads/upload_ec07dd56debee084534150049a602dcf.png)\n",
    "\n",
    "Pidempää pohdintaa kirjoitettiin tästäkin [CodiMD-dokumenttiin](https://gitlab.dclabra.fi/wiki/749Ptaf9QY6oxPqy1qpULQ?view#7-Tarkastellaan-density-arvoja)."
   ]
  },
  {
   "cell_type": "markdown",
   "id": "3372a4ad-fcfc-4df4-bc23-0a8ea86c2aba",
   "metadata": {},
   "source": [
    "### 1.2.2.2 Ongelmatapaus, joka tulee mukaan dataan"
   ]
  },
  {
   "cell_type": "markdown",
   "id": "0fbbd283-de6c-4e2b-9956-96134f1bf2ca",
   "metadata": {},
   "source": [
    "![image](https://gitlab.dclabra.fi/wiki/uploads/upload_38d89bfbdf7e0a9e70f2f43c7ba7f189.png)\n",
    "\n",
    "![image](https://gitlab.dclabra.fi/wiki/uploads/upload_19908f73c3499bc2dcf4299792cac78c.png)"
   ]
  },
  {
   "cell_type": "markdown",
   "id": "2ae2508a-e401-42d8-9f0a-5a3b88c21b72",
   "metadata": {},
   "source": [
    "## 1.3 Väärään suuntaan \"kutistuvat\" arkit"
   ]
  },
  {
   "cell_type": "markdown",
   "id": "a8450e60-88ff-4dfd-8548-d6afabfc6aff",
   "metadata": {},
   "source": [
    "Kun arkin leveyden ennustamisen lisäksi otettiin vaihdoehdoksi ennustaa kutistumaprosenttia, teimme samalla yllättävän havainnon datasta. Osa arkeista olikin alkuperäisen datan mukaan kasvanut kuivaamisen jälkeen. Nämä päätettiin pudottaa datasta pois ennen kuin data vietiin neuroverkolle."
   ]
  },
  {
   "cell_type": "markdown",
   "id": "6ad35b61-04bf-4c4f-a0a3-02d91ebe43f3",
   "metadata": {},
   "source": [
    "![image](https://gitlab.dclabra.fi/wiki/uploads/upload_ad95e29d3c093877e3ed2214df719df4.png)\n",
    "\n",
    "Kun asetelmaa lähdettiin tutkimaan tarkemmin, huomattiin, että kaikki nämä seitsemän arkkia oli luokiteltu märkäarkkien datassa alimittaisiksi. Eli viilua on jatkettu, minkä takia sen lopullinen mitta on suurempi kuin märkänä kuvatessa.\n",
    "\n",
    "![image](https://gitlab.dclabra.fi/wiki/uploads/upload_a9aa2adc905b53dbed487facf2bc1430.png)"
   ]
  },
  {
   "cell_type": "markdown",
   "id": "0dbe6502-9a59-424a-a224-c671ac51b963",
   "metadata": {},
   "source": [
    "## 1.4 Datan augmentointi"
   ]
  },
  {
   "cell_type": "markdown",
   "id": "e8081647-7fe6-4a3f-a68a-6a3d7b8ab1aa",
   "metadata": {},
   "source": [
    "Koska alkuperäistä dataa on vielä toistaiseksi aika vähän, lähdimme miettimään, voisiko datan määrää keinotekoisesti kasvattaa. Teimme kaksi asiaa:\n",
    "- peilasimme blokkeja, jolloin vasen puoli vaihdettiin oikeaksi tai yläpuoli alapuoleksi tai sitten tehtiin molemmat yhtä aikaa\n",
    "- lisäsimme dataan kohinaa"
   ]
  },
  {
   "cell_type": "markdown",
   "id": "3fcaf1d8-fa57-422a-871f-6a1fc6f78ff2",
   "metadata": {
    "tags": []
   },
   "source": [
    "### 1.4.1 Blokkien peilaaminen"
   ]
  },
  {
   "cell_type": "markdown",
   "id": "51854138-1a73-42af-8f11-370987f415e5",
   "metadata": {},
   "source": [
    "![image](https://gitlab.dclabra.fi/wiki/uploads/upload_8cbc2d74a67ce0986945576df262f2a8.png)\n",
    "![image](https://gitlab.dclabra.fi/wiki/uploads/upload_66c6a5082da7b167fab9d60b3bf2458e.png)\n",
    "![image](https://gitlab.dclabra.fi/wiki/uploads/upload_521c5019dd3f087d0deece52a0f56215.png)\n",
    "![image](https://gitlab.dclabra.fi/wiki/uploads/upload_7272db9499c9265f51b073c948497cce.png)"
   ]
  },
  {
   "cell_type": "markdown",
   "id": "4ccec3f0-e71b-4ac6-b4ff-c8cdb7a7bde7",
   "metadata": {},
   "source": [
    "### 1.4.2 Kohinan lisääminen"
   ]
  },
  {
   "cell_type": "markdown",
   "id": "8fe1ff16-57a2-4631-9455-9fc898a94fe2",
   "metadata": {},
   "source": [
    "```python\n",
    "def addNoise(df_col):\n",
    "    import numpy as np\n",
    "    return df_col * np.random.choice([1.001,1.0015,0.999,0.9995],size=df_col.shape[0],p=[0.25,0.25,0.25,0.25])\n",
    "```"
   ]
  },
  {
   "cell_type": "markdown",
   "id": "7defcd9c-c4b3-438c-9f32-ac58c50ec407",
   "metadata": {},
   "source": [
    "Tällä hetkellä kohina on kovakoodattu promilletasolle, mutta voisi olla mielenkiintoista kokeilla antaa eri variaatioita parametrinä."
   ]
  },
  {
   "cell_type": "markdown",
   "id": "dfa9f201-6f37-47f7-8844-a17f061419fa",
   "metadata": {},
   "source": [
    "### 1.4.3 Augmentoidun datasetin koko"
   ]
  },
  {
   "cell_type": "code",
   "execution_count": 2,
   "id": "c098118f-7481-4787-90cb-5fda34a8b93b",
   "metadata": {},
   "outputs": [
    {
     "data": {
      "text/html": [
       "<div>\n",
       "<style scoped>\n",
       "    .dataframe tbody tr th:only-of-type {\n",
       "        vertical-align: middle;\n",
       "    }\n",
       "\n",
       "    .dataframe tbody tr th {\n",
       "        vertical-align: top;\n",
       "    }\n",
       "\n",
       "    .dataframe thead th {\n",
       "        text-align: right;\n",
       "    }\n",
       "</style>\n",
       "<table border=\"1\" class=\"dataframe\">\n",
       "  <thead>\n",
       "    <tr style=\"text-align: right;\">\n",
       "      <th></th>\n",
       "      <th>peelFile</th>\n",
       "      <th>m_uWidth</th>\n",
       "      <th>m_uLength</th>\n",
       "      <th>m_dThickness</th>\n",
       "      <th>B1MoistureAvg</th>\n",
       "      <th>B1TemperatureAvg</th>\n",
       "      <th>B1DensityAvg</th>\n",
       "      <th>B1KnotWidthSum</th>\n",
       "      <th>B1KnotCount</th>\n",
       "      <th>B1DecayWidthSum</th>\n",
       "      <th>...</th>\n",
       "      <th>B9DensityAvg</th>\n",
       "      <th>B9KnotWidthSum</th>\n",
       "      <th>B9KnotCount</th>\n",
       "      <th>B9DecayWidthSum</th>\n",
       "      <th>B9DecayCount</th>\n",
       "      <th>B9AllOtherDefectWidthSum</th>\n",
       "      <th>B9AllOtherDefectCount</th>\n",
       "      <th>dryFile</th>\n",
       "      <th>dryWidth</th>\n",
       "      <th>dryShrinkage</th>\n",
       "    </tr>\n",
       "  </thead>\n",
       "  <tbody>\n",
       "    <tr>\n",
       "      <th>0</th>\n",
       "      <td>20210505123134_88.datx</td>\n",
       "      <td>1748.482417</td>\n",
       "      <td>1602.449015</td>\n",
       "      <td>1.56</td>\n",
       "      <td>96.235269</td>\n",
       "      <td>34.276972</td>\n",
       "      <td>884.334793</td>\n",
       "      <td>2.346144</td>\n",
       "      <td>0.9990</td>\n",
       "      <td>0.000000</td>\n",
       "      <td>...</td>\n",
       "      <td>892.958114</td>\n",
       "      <td>0.000000</td>\n",
       "      <td>0.0000</td>\n",
       "      <td>0.000000</td>\n",
       "      <td>0.000</td>\n",
       "      <td>0.000000</td>\n",
       "      <td>0.000</td>\n",
       "      <td>20210505173016_27.datx</td>\n",
       "      <td>1615.062604</td>\n",
       "      <td>0.924618</td>\n",
       "    </tr>\n",
       "    <tr>\n",
       "      <th>1</th>\n",
       "      <td>20210505150238_64.datx</td>\n",
       "      <td>1751.982883</td>\n",
       "      <td>1602.525485</td>\n",
       "      <td>1.56</td>\n",
       "      <td>82.772145</td>\n",
       "      <td>35.531013</td>\n",
       "      <td>813.685671</td>\n",
       "      <td>42.817124</td>\n",
       "      <td>7.9920</td>\n",
       "      <td>0.000000</td>\n",
       "      <td>...</td>\n",
       "      <td>814.212319</td>\n",
       "      <td>86.807321</td>\n",
       "      <td>15.9920</td>\n",
       "      <td>0.000000</td>\n",
       "      <td>0.000</td>\n",
       "      <td>0.000000</td>\n",
       "      <td>0.000</td>\n",
       "      <td>20210505160520_88.datx</td>\n",
       "      <td>1610.416550</td>\n",
       "      <td>0.921957</td>\n",
       "    </tr>\n",
       "    <tr>\n",
       "      <th>2</th>\n",
       "      <td>20210505141410_88.datx</td>\n",
       "      <td>1749.357534</td>\n",
       "      <td>1603.325947</td>\n",
       "      <td>1.56</td>\n",
       "      <td>95.082724</td>\n",
       "      <td>36.592860</td>\n",
       "      <td>885.221339</td>\n",
       "      <td>4.105752</td>\n",
       "      <td>0.9995</td>\n",
       "      <td>0.000000</td>\n",
       "      <td>...</td>\n",
       "      <td>888.311585</td>\n",
       "      <td>24.634510</td>\n",
       "      <td>1.9990</td>\n",
       "      <td>0.000000</td>\n",
       "      <td>0.000</td>\n",
       "      <td>0.000000</td>\n",
       "      <td>0.000</td>\n",
       "      <td>20210505162901_36.datx</td>\n",
       "      <td>1648.351455</td>\n",
       "      <td>0.941319</td>\n",
       "    </tr>\n",
       "    <tr>\n",
       "      <th>3</th>\n",
       "      <td>20210505150507_75.datx</td>\n",
       "      <td>1749.357534</td>\n",
       "      <td>1598.961639</td>\n",
       "      <td>1.56</td>\n",
       "      <td>87.700463</td>\n",
       "      <td>36.112723</td>\n",
       "      <td>838.967432</td>\n",
       "      <td>16.398397</td>\n",
       "      <td>2.9985</td>\n",
       "      <td>0.000000</td>\n",
       "      <td>...</td>\n",
       "      <td>870.738989</td>\n",
       "      <td>49.269020</td>\n",
       "      <td>6.9930</td>\n",
       "      <td>32.211136</td>\n",
       "      <td>1.999</td>\n",
       "      <td>0.000000</td>\n",
       "      <td>0.000</td>\n",
       "      <td>20210505160124_97.datx</td>\n",
       "      <td>1602.891365</td>\n",
       "      <td>0.914444</td>\n",
       "    </tr>\n",
       "    <tr>\n",
       "      <th>4</th>\n",
       "      <td>20210505135656_76.datx</td>\n",
       "      <td>1748.482417</td>\n",
       "      <td>1600.705327</td>\n",
       "      <td>1.56</td>\n",
       "      <td>79.387914</td>\n",
       "      <td>33.973388</td>\n",
       "      <td>791.311896</td>\n",
       "      <td>12.292645</td>\n",
       "      <td>2.0020</td>\n",
       "      <td>0.000000</td>\n",
       "      <td>...</td>\n",
       "      <td>800.300094</td>\n",
       "      <td>59.269721</td>\n",
       "      <td>8.0120</td>\n",
       "      <td>0.000000</td>\n",
       "      <td>0.000</td>\n",
       "      <td>0.000000</td>\n",
       "      <td>0.000</td>\n",
       "      <td>20210505163554_97.datx</td>\n",
       "      <td>1623.974048</td>\n",
       "      <td>0.927398</td>\n",
       "    </tr>\n",
       "    <tr>\n",
       "      <th>...</th>\n",
       "      <td>...</td>\n",
       "      <td>...</td>\n",
       "      <td>...</td>\n",
       "      <td>...</td>\n",
       "      <td>...</td>\n",
       "      <td>...</td>\n",
       "      <td>...</td>\n",
       "      <td>...</td>\n",
       "      <td>...</td>\n",
       "      <td>...</td>\n",
       "      <td>...</td>\n",
       "      <td>...</td>\n",
       "      <td>...</td>\n",
       "      <td>...</td>\n",
       "      <td>...</td>\n",
       "      <td>...</td>\n",
       "      <td>...</td>\n",
       "      <td>...</td>\n",
       "      <td>...</td>\n",
       "      <td>...</td>\n",
       "      <td>...</td>\n",
       "    </tr>\n",
       "    <tr>\n",
       "      <th>411543</th>\n",
       "      <td>20210505124057_64.datx</td>\n",
       "      <td>1749.357534</td>\n",
       "      <td>1596.999882</td>\n",
       "      <td>1.56</td>\n",
       "      <td>96.545771</td>\n",
       "      <td>33.669172</td>\n",
       "      <td>878.738472</td>\n",
       "      <td>158.048293</td>\n",
       "      <td>17.9820</td>\n",
       "      <td>13.497065</td>\n",
       "      <td>...</td>\n",
       "      <td>839.907332</td>\n",
       "      <td>160.204297</td>\n",
       "      <td>18.9905</td>\n",
       "      <td>0.000000</td>\n",
       "      <td>0.000</td>\n",
       "      <td>0.000000</td>\n",
       "      <td>0.000</td>\n",
       "      <td>20210505170258_17.datx</td>\n",
       "      <td>1501.838173</td>\n",
       "      <td>0.855937</td>\n",
       "    </tr>\n",
       "    <tr>\n",
       "      <th>411544</th>\n",
       "      <td>20210505123334_85.datx</td>\n",
       "      <td>1748.482417</td>\n",
       "      <td>1598.961639</td>\n",
       "      <td>1.56</td>\n",
       "      <td>113.846771</td>\n",
       "      <td>33.063095</td>\n",
       "      <td>997.013031</td>\n",
       "      <td>125.267907</td>\n",
       "      <td>10.9945</td>\n",
       "      <td>26.980654</td>\n",
       "      <td>...</td>\n",
       "      <td>1029.719285</td>\n",
       "      <td>157.462929</td>\n",
       "      <td>19.0190</td>\n",
       "      <td>39.297909</td>\n",
       "      <td>1.998</td>\n",
       "      <td>16.975557</td>\n",
       "      <td>1.998</td>\n",
       "      <td>20210505172657_52.datx</td>\n",
       "      <td>1635.539361</td>\n",
       "      <td>0.934003</td>\n",
       "    </tr>\n",
       "    <tr>\n",
       "      <th>411545</th>\n",
       "      <td>20210505150458_66.datx</td>\n",
       "      <td>1749.357534</td>\n",
       "      <td>1597.799181</td>\n",
       "      <td>1.56</td>\n",
       "      <td>89.055094</td>\n",
       "      <td>34.579096</td>\n",
       "      <td>855.408446</td>\n",
       "      <td>9.370512</td>\n",
       "      <td>2.0030</td>\n",
       "      <td>0.000000</td>\n",
       "      <td>...</td>\n",
       "      <td>895.952239</td>\n",
       "      <td>0.000000</td>\n",
       "      <td>0.0000</td>\n",
       "      <td>0.000000</td>\n",
       "      <td>0.000</td>\n",
       "      <td>0.000000</td>\n",
       "      <td>0.000</td>\n",
       "      <td>20210505160200_10.datx</td>\n",
       "      <td>1617.910546</td>\n",
       "      <td>0.922090</td>\n",
       "    </tr>\n",
       "    <tr>\n",
       "      <th>411546</th>\n",
       "      <td>20210505133012_23.datx</td>\n",
       "      <td>1751.982883</td>\n",
       "      <td>1600.779180</td>\n",
       "      <td>1.56</td>\n",
       "      <td>91.902511</td>\n",
       "      <td>35.601082</td>\n",
       "      <td>894.209977</td>\n",
       "      <td>0.000000</td>\n",
       "      <td>0.0000</td>\n",
       "      <td>12.884455</td>\n",
       "      <td>...</td>\n",
       "      <td>910.019476</td>\n",
       "      <td>0.000000</td>\n",
       "      <td>0.0000</td>\n",
       "      <td>0.000000</td>\n",
       "      <td>0.000</td>\n",
       "      <td>0.000000</td>\n",
       "      <td>0.000</td>\n",
       "      <td>20210505165613_81.datx</td>\n",
       "      <td>1642.725510</td>\n",
       "      <td>0.939044</td>\n",
       "    </tr>\n",
       "    <tr>\n",
       "      <th>411547</th>\n",
       "      <td>20210505132606_50.datx</td>\n",
       "      <td>1752.857999</td>\n",
       "      <td>1595.474264</td>\n",
       "      <td>1.56</td>\n",
       "      <td>100.371111</td>\n",
       "      <td>34.661922</td>\n",
       "      <td>885.546649</td>\n",
       "      <td>0.000000</td>\n",
       "      <td>0.0000</td>\n",
       "      <td>86.048515</td>\n",
       "      <td>...</td>\n",
       "      <td>921.130864</td>\n",
       "      <td>30.438931</td>\n",
       "      <td>1.9980</td>\n",
       "      <td>0.000000</td>\n",
       "      <td>0.000</td>\n",
       "      <td>0.000000</td>\n",
       "      <td>0.000</td>\n",
       "      <td>20210505170317_24.datx</td>\n",
       "      <td>1600.276167</td>\n",
       "      <td>0.916152</td>\n",
       "    </tr>\n",
       "  </tbody>\n",
       "</table>\n",
       "<p>411548 rows × 88 columns</p>\n",
       "</div>"
      ],
      "text/plain": [
       "                      peelFile     m_uWidth    m_uLength  m_dThickness  \\\n",
       "0       20210505123134_88.datx  1748.482417  1602.449015          1.56   \n",
       "1       20210505150238_64.datx  1751.982883  1602.525485          1.56   \n",
       "2       20210505141410_88.datx  1749.357534  1603.325947          1.56   \n",
       "3       20210505150507_75.datx  1749.357534  1598.961639          1.56   \n",
       "4       20210505135656_76.datx  1748.482417  1600.705327          1.56   \n",
       "...                        ...          ...          ...           ...   \n",
       "411543  20210505124057_64.datx  1749.357534  1596.999882          1.56   \n",
       "411544  20210505123334_85.datx  1748.482417  1598.961639          1.56   \n",
       "411545  20210505150458_66.datx  1749.357534  1597.799181          1.56   \n",
       "411546  20210505133012_23.datx  1751.982883  1600.779180          1.56   \n",
       "411547  20210505132606_50.datx  1752.857999  1595.474264          1.56   \n",
       "\n",
       "        B1MoistureAvg  B1TemperatureAvg  B1DensityAvg  B1KnotWidthSum  \\\n",
       "0           96.235269         34.276972    884.334793        2.346144   \n",
       "1           82.772145         35.531013    813.685671       42.817124   \n",
       "2           95.082724         36.592860    885.221339        4.105752   \n",
       "3           87.700463         36.112723    838.967432       16.398397   \n",
       "4           79.387914         33.973388    791.311896       12.292645   \n",
       "...               ...               ...           ...             ...   \n",
       "411543      96.545771         33.669172    878.738472      158.048293   \n",
       "411544     113.846771         33.063095    997.013031      125.267907   \n",
       "411545      89.055094         34.579096    855.408446        9.370512   \n",
       "411546      91.902511         35.601082    894.209977        0.000000   \n",
       "411547     100.371111         34.661922    885.546649        0.000000   \n",
       "\n",
       "        B1KnotCount  B1DecayWidthSum  ...  B9DensityAvg  B9KnotWidthSum  \\\n",
       "0            0.9990         0.000000  ...    892.958114        0.000000   \n",
       "1            7.9920         0.000000  ...    814.212319       86.807321   \n",
       "2            0.9995         0.000000  ...    888.311585       24.634510   \n",
       "3            2.9985         0.000000  ...    870.738989       49.269020   \n",
       "4            2.0020         0.000000  ...    800.300094       59.269721   \n",
       "...             ...              ...  ...           ...             ...   \n",
       "411543      17.9820        13.497065  ...    839.907332      160.204297   \n",
       "411544      10.9945        26.980654  ...   1029.719285      157.462929   \n",
       "411545       2.0030         0.000000  ...    895.952239        0.000000   \n",
       "411546       0.0000        12.884455  ...    910.019476        0.000000   \n",
       "411547       0.0000        86.048515  ...    921.130864       30.438931   \n",
       "\n",
       "        B9KnotCount  B9DecayWidthSum  B9DecayCount  B9AllOtherDefectWidthSum  \\\n",
       "0            0.0000         0.000000         0.000                  0.000000   \n",
       "1           15.9920         0.000000         0.000                  0.000000   \n",
       "2            1.9990         0.000000         0.000                  0.000000   \n",
       "3            6.9930        32.211136         1.999                  0.000000   \n",
       "4            8.0120         0.000000         0.000                  0.000000   \n",
       "...             ...              ...           ...                       ...   \n",
       "411543      18.9905         0.000000         0.000                  0.000000   \n",
       "411544      19.0190        39.297909         1.998                 16.975557   \n",
       "411545       0.0000         0.000000         0.000                  0.000000   \n",
       "411546       0.0000         0.000000         0.000                  0.000000   \n",
       "411547       1.9980         0.000000         0.000                  0.000000   \n",
       "\n",
       "        B9AllOtherDefectCount                 dryFile     dryWidth  \\\n",
       "0                       0.000  20210505173016_27.datx  1615.062604   \n",
       "1                       0.000  20210505160520_88.datx  1610.416550   \n",
       "2                       0.000  20210505162901_36.datx  1648.351455   \n",
       "3                       0.000  20210505160124_97.datx  1602.891365   \n",
       "4                       0.000  20210505163554_97.datx  1623.974048   \n",
       "...                       ...                     ...          ...   \n",
       "411543                  0.000  20210505170258_17.datx  1501.838173   \n",
       "411544                  1.998  20210505172657_52.datx  1635.539361   \n",
       "411545                  0.000  20210505160200_10.datx  1617.910546   \n",
       "411546                  0.000  20210505165613_81.datx  1642.725510   \n",
       "411547                  0.000  20210505170317_24.datx  1600.276167   \n",
       "\n",
       "        dryShrinkage  \n",
       "0           0.924618  \n",
       "1           0.921957  \n",
       "2           0.941319  \n",
       "3           0.914444  \n",
       "4           0.927398  \n",
       "...              ...  \n",
       "411543      0.855937  \n",
       "411544      0.934003  \n",
       "411545      0.922090  \n",
       "411546      0.939044  \n",
       "411547      0.916152  \n",
       "\n",
       "[411548 rows x 88 columns]"
      ]
     },
     "execution_count": 2,
     "metadata": {},
     "output_type": "execute_result"
    }
   ],
   "source": [
    "import pandas as pd\n",
    "augmented = pd.read_pickle('/home/jovyan/work/raute_data/Augmented/augmentedNew.pkl')\n",
    "augmented"
   ]
  },
  {
   "cell_type": "code",
   "execution_count": 3,
   "id": "4a72b369-dc27-4829-b5c7-ebeeec530148",
   "metadata": {},
   "outputs": [
    {
     "data": {
      "text/html": [
       "<div>\n",
       "<style scoped>\n",
       "    .dataframe tbody tr th:only-of-type {\n",
       "        vertical-align: middle;\n",
       "    }\n",
       "\n",
       "    .dataframe tbody tr th {\n",
       "        vertical-align: top;\n",
       "    }\n",
       "\n",
       "    .dataframe thead th {\n",
       "        text-align: right;\n",
       "    }\n",
       "</style>\n",
       "<table border=\"1\" class=\"dataframe\">\n",
       "  <thead>\n",
       "    <tr style=\"text-align: right;\">\n",
       "      <th></th>\n",
       "      <th>peelFile</th>\n",
       "      <th>m_uWidth</th>\n",
       "      <th>m_uLength</th>\n",
       "      <th>m_dThickness</th>\n",
       "      <th>B1MoistureAvg</th>\n",
       "      <th>B1TemperatureAvg</th>\n",
       "      <th>B1DensityAvg</th>\n",
       "      <th>B1KnotWidthSum</th>\n",
       "      <th>B1KnotCount</th>\n",
       "      <th>B1DecayWidthSum</th>\n",
       "      <th>...</th>\n",
       "      <th>B9DensityAvg</th>\n",
       "      <th>B9KnotWidthSum</th>\n",
       "      <th>B9KnotCount</th>\n",
       "      <th>B9DecayWidthSum</th>\n",
       "      <th>B9DecayCount</th>\n",
       "      <th>B9AllOtherDefectWidthSum</th>\n",
       "      <th>B9AllOtherDefectCount</th>\n",
       "      <th>dryFile</th>\n",
       "      <th>dryWidth</th>\n",
       "      <th>dryShrinkage</th>\n",
       "    </tr>\n",
       "  </thead>\n",
       "  <tbody>\n",
       "    <tr>\n",
       "      <th>0</th>\n",
       "      <td>20210505124912_19.datx</td>\n",
       "      <td>1749.357534</td>\n",
       "      <td>1599.904574</td>\n",
       "      <td>1.56</td>\n",
       "      <td>82.447348</td>\n",
       "      <td>33.811381</td>\n",
       "      <td>864.473364</td>\n",
       "      <td>5.270913</td>\n",
       "      <td>0.999</td>\n",
       "      <td>0.000000</td>\n",
       "      <td>...</td>\n",
       "      <td>886.195101</td>\n",
       "      <td>5.278824</td>\n",
       "      <td>1.0010</td>\n",
       "      <td>6.451895</td>\n",
       "      <td>1.001</td>\n",
       "      <td>0.000000</td>\n",
       "      <td>0.0000</td>\n",
       "      <td>20210505164733_91.datx</td>\n",
       "      <td>1594.951084</td>\n",
       "      <td>0.909459</td>\n",
       "    </tr>\n",
       "    <tr>\n",
       "      <th>1</th>\n",
       "      <td>20210505143111_40.datx</td>\n",
       "      <td>1751.982883</td>\n",
       "      <td>1600.485512</td>\n",
       "      <td>1.56</td>\n",
       "      <td>111.142467</td>\n",
       "      <td>35.970355</td>\n",
       "      <td>978.324682</td>\n",
       "      <td>128.515535</td>\n",
       "      <td>8.991</td>\n",
       "      <td>122.647245</td>\n",
       "      <td>...</td>\n",
       "      <td>927.653012</td>\n",
       "      <td>89.153464</td>\n",
       "      <td>4.9950</td>\n",
       "      <td>0.000000</td>\n",
       "      <td>0.000</td>\n",
       "      <td>0.000000</td>\n",
       "      <td>0.0000</td>\n",
       "      <td>20210505162351_23.datx</td>\n",
       "      <td>1630.268703</td>\n",
       "      <td>0.933323</td>\n",
       "    </tr>\n",
       "    <tr>\n",
       "      <th>2</th>\n",
       "      <td>20210505124026_38.datx</td>\n",
       "      <td>1752.857999</td>\n",
       "      <td>1600.124098</td>\n",
       "      <td>1.56</td>\n",
       "      <td>97.993367</td>\n",
       "      <td>35.657107</td>\n",
       "      <td>873.168870</td>\n",
       "      <td>122.060416</td>\n",
       "      <td>10.015</td>\n",
       "      <td>0.000000</td>\n",
       "      <td>...</td>\n",
       "      <td>912.393366</td>\n",
       "      <td>72.766787</td>\n",
       "      <td>5.9970</td>\n",
       "      <td>68.624706</td>\n",
       "      <td>5.005</td>\n",
       "      <td>0.000000</td>\n",
       "      <td>0.0000</td>\n",
       "      <td>20210505170608_45.datx</td>\n",
       "      <td>1655.974420</td>\n",
       "      <td>0.943783</td>\n",
       "    </tr>\n",
       "    <tr>\n",
       "      <th>3</th>\n",
       "      <td>20210505130128_1.datx</td>\n",
       "      <td>1752.857999</td>\n",
       "      <td>1601.286556</td>\n",
       "      <td>1.56</td>\n",
       "      <td>103.745730</td>\n",
       "      <td>35.678622</td>\n",
       "      <td>898.282152</td>\n",
       "      <td>112.446149</td>\n",
       "      <td>8.008</td>\n",
       "      <td>0.000000</td>\n",
       "      <td>...</td>\n",
       "      <td>875.242352</td>\n",
       "      <td>36.896393</td>\n",
       "      <td>7.0105</td>\n",
       "      <td>0.000000</td>\n",
       "      <td>0.000</td>\n",
       "      <td>126.691765</td>\n",
       "      <td>0.9995</td>\n",
       "      <td>20210505171030_87.datx</td>\n",
       "      <td>1606.566229</td>\n",
       "      <td>0.920213</td>\n",
       "    </tr>\n",
       "    <tr>\n",
       "      <th>4</th>\n",
       "      <td>20210505150118_98.datx</td>\n",
       "      <td>1752.857999</td>\n",
       "      <td>1601.286556</td>\n",
       "      <td>1.56</td>\n",
       "      <td>92.842812</td>\n",
       "      <td>36.003405</td>\n",
       "      <td>891.462245</td>\n",
       "      <td>45.073032</td>\n",
       "      <td>6.006</td>\n",
       "      <td>0.000000</td>\n",
       "      <td>...</td>\n",
       "      <td>879.889350</td>\n",
       "      <td>70.829050</td>\n",
       "      <td>3.9980</td>\n",
       "      <td>0.000000</td>\n",
       "      <td>0.000</td>\n",
       "      <td>24.597595</td>\n",
       "      <td>2.0020</td>\n",
       "      <td>20210505161313_53.datx</td>\n",
       "      <td>1596.282603</td>\n",
       "      <td>0.913409</td>\n",
       "    </tr>\n",
       "    <tr>\n",
       "      <th>...</th>\n",
       "      <td>...</td>\n",
       "      <td>...</td>\n",
       "      <td>...</td>\n",
       "      <td>...</td>\n",
       "      <td>...</td>\n",
       "      <td>...</td>\n",
       "      <td>...</td>\n",
       "      <td>...</td>\n",
       "      <td>...</td>\n",
       "      <td>...</td>\n",
       "      <td>...</td>\n",
       "      <td>...</td>\n",
       "      <td>...</td>\n",
       "      <td>...</td>\n",
       "      <td>...</td>\n",
       "      <td>...</td>\n",
       "      <td>...</td>\n",
       "      <td>...</td>\n",
       "      <td>...</td>\n",
       "      <td>...</td>\n",
       "      <td>...</td>\n",
       "    </tr>\n",
       "    <tr>\n",
       "      <th>822543</th>\n",
       "      <td>20210505124646_99.datx</td>\n",
       "      <td>1751.982883</td>\n",
       "      <td>1600.124098</td>\n",
       "      <td>1.56</td>\n",
       "      <td>92.852889</td>\n",
       "      <td>35.199727</td>\n",
       "      <td>811.725860</td>\n",
       "      <td>78.048247</td>\n",
       "      <td>9.009</td>\n",
       "      <td>0.000000</td>\n",
       "      <td>...</td>\n",
       "      <td>850.417906</td>\n",
       "      <td>132.877639</td>\n",
       "      <td>13.0130</td>\n",
       "      <td>17.569711</td>\n",
       "      <td>1.001</td>\n",
       "      <td>28.754617</td>\n",
       "      <td>1.9980</td>\n",
       "      <td>20210505165340_23.datx</td>\n",
       "      <td>1643.945928</td>\n",
       "      <td>0.939273</td>\n",
       "    </tr>\n",
       "    <tr>\n",
       "      <th>822544</th>\n",
       "      <td>20210505123038_39.datx</td>\n",
       "      <td>1751.982883</td>\n",
       "      <td>1601.647389</td>\n",
       "      <td>1.56</td>\n",
       "      <td>107.481283</td>\n",
       "      <td>34.922863</td>\n",
       "      <td>887.468750</td>\n",
       "      <td>24.634510</td>\n",
       "      <td>4.004</td>\n",
       "      <td>0.000000</td>\n",
       "      <td>...</td>\n",
       "      <td>894.181036</td>\n",
       "      <td>4.105752</td>\n",
       "      <td>1.0015</td>\n",
       "      <td>0.000000</td>\n",
       "      <td>0.000</td>\n",
       "      <td>0.000000</td>\n",
       "      <td>0.0000</td>\n",
       "      <td>20210505173252_83.datx</td>\n",
       "      <td>1636.871555</td>\n",
       "      <td>0.935698</td>\n",
       "    </tr>\n",
       "    <tr>\n",
       "      <th>822545</th>\n",
       "      <td>20210505150803_8.datx</td>\n",
       "      <td>1748.482417</td>\n",
       "      <td>1598.380410</td>\n",
       "      <td>1.56</td>\n",
       "      <td>98.167038</td>\n",
       "      <td>33.591947</td>\n",
       "      <td>943.423893</td>\n",
       "      <td>10.557647</td>\n",
       "      <td>1.999</td>\n",
       "      <td>0.000000</td>\n",
       "      <td>...</td>\n",
       "      <td>898.687834</td>\n",
       "      <td>8.780461</td>\n",
       "      <td>0.9995</td>\n",
       "      <td>0.000000</td>\n",
       "      <td>0.000</td>\n",
       "      <td>0.000000</td>\n",
       "      <td>0.0000</td>\n",
       "      <td>20210505155517_69.datx</td>\n",
       "      <td>1611.300556</td>\n",
       "      <td>0.920161</td>\n",
       "    </tr>\n",
       "    <tr>\n",
       "      <th>822546</th>\n",
       "      <td>20210505135446_12.datx</td>\n",
       "      <td>1752.857999</td>\n",
       "      <td>1604.552082</td>\n",
       "      <td>1.56</td>\n",
       "      <td>84.714040</td>\n",
       "      <td>35.553526</td>\n",
       "      <td>794.531244</td>\n",
       "      <td>97.413602</td>\n",
       "      <td>10.010</td>\n",
       "      <td>0.000000</td>\n",
       "      <td>...</td>\n",
       "      <td>821.229889</td>\n",
       "      <td>70.829050</td>\n",
       "      <td>7.9920</td>\n",
       "      <td>0.000000</td>\n",
       "      <td>0.000</td>\n",
       "      <td>0.000000</td>\n",
       "      <td>0.0000</td>\n",
       "      <td>20210505164153_76.datx</td>\n",
       "      <td>1607.082903</td>\n",
       "      <td>0.920048</td>\n",
       "    </tr>\n",
       "    <tr>\n",
       "      <th>822547</th>\n",
       "      <td>20210505150228_55.datx</td>\n",
       "      <td>1749.357534</td>\n",
       "      <td>1598.161758</td>\n",
       "      <td>1.56</td>\n",
       "      <td>93.928292</td>\n",
       "      <td>35.464436</td>\n",
       "      <td>883.486035</td>\n",
       "      <td>16.984054</td>\n",
       "      <td>5.005</td>\n",
       "      <td>0.000000</td>\n",
       "      <td>...</td>\n",
       "      <td>882.318078</td>\n",
       "      <td>14.076863</td>\n",
       "      <td>1.9980</td>\n",
       "      <td>0.000000</td>\n",
       "      <td>0.000</td>\n",
       "      <td>0.000000</td>\n",
       "      <td>0.0000</td>\n",
       "      <td>20210505160543_97.datx</td>\n",
       "      <td>1625.513679</td>\n",
       "      <td>0.927350</td>\n",
       "    </tr>\n",
       "  </tbody>\n",
       "</table>\n",
       "<p>822548 rows × 88 columns</p>\n",
       "</div>"
      ],
      "text/plain": [
       "                      peelFile     m_uWidth    m_uLength  m_dThickness  \\\n",
       "0       20210505124912_19.datx  1749.357534  1599.904574          1.56   \n",
       "1       20210505143111_40.datx  1751.982883  1600.485512          1.56   \n",
       "2       20210505124026_38.datx  1752.857999  1600.124098          1.56   \n",
       "3        20210505130128_1.datx  1752.857999  1601.286556          1.56   \n",
       "4       20210505150118_98.datx  1752.857999  1601.286556          1.56   \n",
       "...                        ...          ...          ...           ...   \n",
       "822543  20210505124646_99.datx  1751.982883  1600.124098          1.56   \n",
       "822544  20210505123038_39.datx  1751.982883  1601.647389          1.56   \n",
       "822545   20210505150803_8.datx  1748.482417  1598.380410          1.56   \n",
       "822546  20210505135446_12.datx  1752.857999  1604.552082          1.56   \n",
       "822547  20210505150228_55.datx  1749.357534  1598.161758          1.56   \n",
       "\n",
       "        B1MoistureAvg  B1TemperatureAvg  B1DensityAvg  B1KnotWidthSum  \\\n",
       "0           82.447348         33.811381    864.473364        5.270913   \n",
       "1          111.142467         35.970355    978.324682      128.515535   \n",
       "2           97.993367         35.657107    873.168870      122.060416   \n",
       "3          103.745730         35.678622    898.282152      112.446149   \n",
       "4           92.842812         36.003405    891.462245       45.073032   \n",
       "...               ...               ...           ...             ...   \n",
       "822543      92.852889         35.199727    811.725860       78.048247   \n",
       "822544     107.481283         34.922863    887.468750       24.634510   \n",
       "822545      98.167038         33.591947    943.423893       10.557647   \n",
       "822546      84.714040         35.553526    794.531244       97.413602   \n",
       "822547      93.928292         35.464436    883.486035       16.984054   \n",
       "\n",
       "        B1KnotCount  B1DecayWidthSum  ...  B9DensityAvg  B9KnotWidthSum  \\\n",
       "0             0.999         0.000000  ...    886.195101        5.278824   \n",
       "1             8.991       122.647245  ...    927.653012       89.153464   \n",
       "2            10.015         0.000000  ...    912.393366       72.766787   \n",
       "3             8.008         0.000000  ...    875.242352       36.896393   \n",
       "4             6.006         0.000000  ...    879.889350       70.829050   \n",
       "...             ...              ...  ...           ...             ...   \n",
       "822543        9.009         0.000000  ...    850.417906      132.877639   \n",
       "822544        4.004         0.000000  ...    894.181036        4.105752   \n",
       "822545        1.999         0.000000  ...    898.687834        8.780461   \n",
       "822546       10.010         0.000000  ...    821.229889       70.829050   \n",
       "822547        5.005         0.000000  ...    882.318078       14.076863   \n",
       "\n",
       "        B9KnotCount  B9DecayWidthSum  B9DecayCount  B9AllOtherDefectWidthSum  \\\n",
       "0            1.0010         6.451895         1.001                  0.000000   \n",
       "1            4.9950         0.000000         0.000                  0.000000   \n",
       "2            5.9970        68.624706         5.005                  0.000000   \n",
       "3            7.0105         0.000000         0.000                126.691765   \n",
       "4            3.9980         0.000000         0.000                 24.597595   \n",
       "...             ...              ...           ...                       ...   \n",
       "822543      13.0130        17.569711         1.001                 28.754617   \n",
       "822544       1.0015         0.000000         0.000                  0.000000   \n",
       "822545       0.9995         0.000000         0.000                  0.000000   \n",
       "822546       7.9920         0.000000         0.000                  0.000000   \n",
       "822547       1.9980         0.000000         0.000                  0.000000   \n",
       "\n",
       "        B9AllOtherDefectCount                 dryFile     dryWidth  \\\n",
       "0                      0.0000  20210505164733_91.datx  1594.951084   \n",
       "1                      0.0000  20210505162351_23.datx  1630.268703   \n",
       "2                      0.0000  20210505170608_45.datx  1655.974420   \n",
       "3                      0.9995  20210505171030_87.datx  1606.566229   \n",
       "4                      2.0020  20210505161313_53.datx  1596.282603   \n",
       "...                       ...                     ...          ...   \n",
       "822543                 1.9980  20210505165340_23.datx  1643.945928   \n",
       "822544                 0.0000  20210505173252_83.datx  1636.871555   \n",
       "822545                 0.0000  20210505155517_69.datx  1611.300556   \n",
       "822546                 0.0000  20210505164153_76.datx  1607.082903   \n",
       "822547                 0.0000  20210505160543_97.datx  1625.513679   \n",
       "\n",
       "        dryShrinkage  \n",
       "0           0.909459  \n",
       "1           0.933323  \n",
       "2           0.943783  \n",
       "3           0.920213  \n",
       "4           0.913409  \n",
       "...              ...  \n",
       "822543      0.939273  \n",
       "822544      0.935698  \n",
       "822545      0.920161  \n",
       "822546      0.920048  \n",
       "822547      0.927350  \n",
       "\n",
       "[822548 rows x 88 columns]"
      ]
     },
     "execution_count": 3,
     "metadata": {},
     "output_type": "execute_result"
    }
   ],
   "source": [
    "augmented3 = pd.read_pickle('/home/jovyan/work/raute_data/Augmented/augmented3.pkl')\n",
    "augmented3"
   ]
  },
  {
   "cell_type": "markdown",
   "id": "1187b484-c2c6-4a99-bbce-f8fe15fd936f",
   "metadata": {},
   "source": [
    "# 2 Tietokanta"
   ]
  },
  {
   "cell_type": "markdown",
   "id": "848454dd-dc11-4543-9e05-347d721dcf62",
   "metadata": {},
   "source": [
    "- Tunkattu dockeriin ja käytetty Dockerfileä\n",
    "- Features-taulu, target-taulu, verifiedpairs, VIEW, jossa näkyy kaikki\n",
    "    - ei hyväksy duplikaatteja\n",
    "- Mahdollisuus puskea myös ihan kaikki samaan tauluun duplikaatteineen (jos esim. augmentoitu)\n",
    "    - Testattu 411k datasetillä, jos puskee kaiken kerralla menee ~3-4min (tässä siis piirrematriisi jo luotu)\n",
    "- Työn alla datan puskeminen chunkeissa\n",
    "    - Tämän hetkinen vaihtoehto on puskea joko rivi kerrallaan tai kaikki kerrallaan, silloin kun kyseessä on todellinen tilanne.\n",
    "    - Augmentoidulle datasetille tehtiin testiloop, joka puskee augmentoitua dataa sisään chunkeissa.\n",
    "        - 411k setillä ja 10k chunkeissa meni reilu 3 minuuttia."
   ]
  },
  {
   "cell_type": "markdown",
   "id": "c7bf8933-a4ab-4788-890a-3c4c30cfbe2e",
   "metadata": {},
   "source": [
    "Dokumentointi löytyy jälleen CodiMD:stä: [MariaDB-kontin pystyttäminen ja tietokantayhteyden muodostaminen](https://gitlab.dclabra.fi/wiki/Lhfjb-cJRFaSA_bvMb5eUg) ja [Kontin pystyttäminen Dockerfilen avulla](https://gitlab.dclabra.fi/wiki/QbEaq9AKSPmc3485Lk1mfw)."
   ]
  },
  {
   "cell_type": "markdown",
   "id": "80f2c0a2-c7af-4a63-8a9a-2e9c8256590e",
   "metadata": {},
   "source": [
    "## 2.1 VIEW, jolla taulut saadaan yhdistettyä ja päivittymään automaattisesti"
   ]
  },
  {
   "cell_type": "markdown",
   "id": "1c901093-07fb-4aa3-89e8-6b10164158d1",
   "metadata": {},
   "source": [
    "Piirrematriisi ja target-arvot on tässä erillisissä tauluissa. Linkkitauluna käytetään taulua, jossa on tiedot pareista.\n",
    "\n",
    "```sql\n",
    "CREATE VIEW PreprocessedData AS \n",
    "  (SELECT peelData.*, \n",
    "          dryData.* \n",
    "FROM peelData \n",
    "INNER JOIN VerifiedPairs ON peelData.peelFile = VerifiedPairs.pfile\n",
    "INNER JOIN dryData ON VerifiedPairs.dfile = dryData.dryFile\n",
    "          );\n",
    "```"
   ]
  },
  {
   "cell_type": "markdown",
   "id": "6b12bec3-e4ee-4a37-90cb-5407c1dd6be7",
   "metadata": {},
   "source": [
    "![image](https://gitlab.dclabra.fi/wiki/uploads/upload_3eb5a5257251dda4a660fecb566c0f9e.png)"
   ]
  },
  {
   "cell_type": "markdown",
   "id": "c2b952c8-f7fc-4b9b-acb5-bd19d5a41edb",
   "metadata": {},
   "source": [
    "# 3 Neuroverkko"
   ]
  },
  {
   "cell_type": "markdown",
   "id": "45d03704-e5ec-40a4-af6d-332291cafdac",
   "metadata": {},
   "source": [
    "Viime viikolla saatiin ensimmäinen neuroverkon prototyyppi muodostettua, mutta ennusteet näyttivät vielä mitä sattuu. Tästä viimeviikkoisesta, tosin hieman muokatusta versiosta, tehtiin viikon alussa myös `SavedModel`, jotta Team 2 pääsee tekemään kokeiluja todellisella, tai sitä lähempänä olevalalla neuroverkolla.\n",
    "\n",
    "Myöhemmin tällä viikolla ennusteet saatiin lähemmäs todellisuutta, vaikkakin alkuperäisellä datalla tehtynä ennusteissa oli vielä paljon heittoa. Augmentoidun datan ottaminen mukaan vei ennusteet jo hyvin lähelle target-arvoja. Hoksasimme myös, että kenties viime viikollakin tarkkuudet olisi saatu lähemmäs todellista skaalaa, ellemme olisi itse prediction vaiheessa tehneet vahingossa pientä virhettä.\n",
    "\n",
    "Lisäksi tarkkuutta visualisoitiin opetuksen jälkeen vertaamalla niitä todellisiin arvoihin. Tarkkuudelle pyrittiin myös miettimään uusia mittareita, mutta vielä ei keksitty tyydyttävää ratkaisua."
   ]
  },
  {
   "cell_type": "markdown",
   "id": "9ac3ce3f-4665-4c20-93d0-9f64ce572797",
   "metadata": {},
   "source": [
    "## 3.1 Neuroverkko, jolla tarkkuudet saatiin lähemmäksi"
   ]
  },
  {
   "cell_type": "markdown",
   "id": "b7c8fcc6-c386-4eed-a068-55be9fb20531",
   "metadata": {},
   "source": [
    "```python\n",
    "def reg_nn():\n",
    "    \n",
    "    model = models.Sequential()\n",
    "    \n",
    "    model.add(layers.Dense(128, activation='relu', input_shape=(transformed_big_train_data.shape[1],)))    \n",
    "    model.add(layers.Dense(64, activation='relu'))\n",
    "    model.add(layers.Dense(32, activation='relu'))\n",
    "    model.add(layers.Dense(1))\n",
    "    \n",
    "    # MSE Loss & MAE Loss - Regression task\n",
    "    model.compile(optimizer='rmsprop', \n",
    "                  loss='mse', \n",
    "                  metrics=['mae']) \n",
    "    \n",
    "    return model\n",
    "```"
   ]
  },
  {
   "cell_type": "markdown",
   "id": "6bf80ade-4686-4650-b91c-5732e8df20b3",
   "metadata": {
    "tags": []
   },
   "source": [
    "## 3.2 Kustomoitujen metriikkojen lisääminen ja testaaminen"
   ]
  },
  {
   "cell_type": "markdown",
   "id": "e4ada867-a506-41ea-98cb-172af7c84b87",
   "metadata": {},
   "source": [
    "### 3.2.1 Funktiot metriikoille"
   ]
  },
  {
   "cell_type": "markdown",
   "id": "19b89e1a-d35c-4f1d-97e0-af3c8a829534",
   "metadata": {},
   "source": [
    "```python\n",
    "def distance_from_true(y_true, y_pred):\n",
    "    return y_pred - y_true\n",
    "\n",
    "def absolute_from_true(y_true, y_pred): # Täsmälleen sama kuin Mean Absolute Error\n",
    "    return abs(y_pred - y_true)\n",
    "\n",
    "def percentage_from_true(y_true, y_pred):\n",
    "    return y_pred/y_true\n",
    "```"
   ]
  },
  {
   "cell_type": "markdown",
   "id": "e8555eca-2360-4d41-ab0c-4dfd7ff99503",
   "metadata": {},
   "source": [
    "### 3.2.1 Metriikkojen antaminen neuroverkolle"
   ]
  },
  {
   "cell_type": "markdown",
   "id": "7fd9db75-f629-4bc2-ab26-01225e4bb078",
   "metadata": {},
   "source": [
    "Metriikat annetaan neuroverkolle lisäämällä ne `model.compile`-osioon:\n",
    "\n",
    "```python\n",
    "network.compile(optimizer='rmsprop', loss='mse', metrics=['mae',distance_from_true,absolute_from_true,percentage_from_true])\n",
    "```"
   ]
  },
  {
   "cell_type": "markdown",
   "id": "7a9178ca-877e-4080-bb71-9c578818a909",
   "metadata": {},
   "source": [
    "## 3.3 Neuroverkon opetus alkuperäiskokoisella datasetillä"
   ]
  },
  {
   "cell_type": "markdown",
   "id": "c6073809-9684-40c8-b5bd-8949ab2f13a2",
   "metadata": {},
   "source": [
    "- Pudotimme `m_dThickness`-sarakkeen pois, koska sen arvo ei muutu kertaakaan koko datassa.\n",
    "- Opetus- ja testijaoksi asetettiin 80/20.\n",
    "- Data standardoitiin `sklearn`-kirjaston `StandarScalerin` avulla."
   ]
  },
  {
   "cell_type": "markdown",
   "id": "74c75656-d049-473b-bd72-a6c693ac1015",
   "metadata": {},
   "source": [
    "### 3.3.1 Opetus - original"
   ]
  },
  {
   "cell_type": "markdown",
   "id": "8ddd57a6-c4aa-41d1-ae7e-30bf1fe0213d",
   "metadata": {},
   "source": [
    "![image](https://gitlab.dclabra.fi/wiki/uploads/upload_6f58f892f7f4ef59ee8c068485485d15.png)"
   ]
  },
  {
   "cell_type": "markdown",
   "id": "5f0347eb-92d8-4848-9982-f887516dd391",
   "metadata": {},
   "source": [
    "### 3.3.2 Validointi - original"
   ]
  },
  {
   "cell_type": "markdown",
   "id": "611f0f83-0e46-44e9-8aec-beadeae5faf2",
   "metadata": {},
   "source": [
    "![image](https://gitlab.dclabra.fi/wiki/uploads/upload_846576dd4fc18f6e9069ccbe43afcddb.png)"
   ]
  },
  {
   "cell_type": "markdown",
   "id": "f5dad20e-514c-4c37-8d78-c31c0d37d2ca",
   "metadata": {},
   "source": [
    "### 3.3.3 Ennusteiden visualisointi - original"
   ]
  },
  {
   "cell_type": "markdown",
   "id": "8a0e67e1-9f43-40ac-a99f-459fc2fe0294",
   "metadata": {},
   "source": [
    "![](https://gitlab.dclabra.fi/wiki/uploads/upload_64de5266af5e444bbd1884e6b48e7e8b.png)\n",
    "\n",
    "![](https://gitlab.dclabra.fi/wiki/uploads/upload_bdd8e803d49db3e7678cbec2e7427920.png)\n",
    "\n",
    "![](https://gitlab.dclabra.fi/wiki/uploads/upload_16811dcb940145eb445a442c1f949013.png)"
   ]
  },
  {
   "cell_type": "markdown",
   "id": "3307c644-5101-418e-ac0a-386f8a3a9697",
   "metadata": {},
   "source": [
    "### 3.4 Neuroverkon opetus augmentoidulla datalla"
   ]
  },
  {
   "cell_type": "markdown",
   "id": "a391ed58-f7cb-4307-8dfa-ef0818170e97",
   "metadata": {},
   "source": [
    "Tällä kertaa pudotimme `m_dThickness`-sarakkeen pois, koska sen arvo ei muutu kertaakaan koko datassa. Opetus- ja testijaoksi asetettiin 70/30. Data standardoitiin `sklearn`-kirjaston `StandarScalerin` avulla."
   ]
  },
  {
   "cell_type": "markdown",
   "id": "f9cc1af1-3ff1-4db4-958f-d25cf19bc3b7",
   "metadata": {},
   "source": [
    "### 3.4.1 Opetus - augmentoitu"
   ]
  },
  {
   "cell_type": "markdown",
   "id": "2b2ed07e-5015-4466-bdae-e6ff23f5b763",
   "metadata": {},
   "source": [
    "![image](https://gitlab.dclabra.fi/wiki/uploads/upload_361dfb7756be61f02f5b2d2d8348d127.png)"
   ]
  },
  {
   "cell_type": "markdown",
   "id": "4f30eaf2-d379-4398-b9af-1c3af68533ce",
   "metadata": {},
   "source": [
    "### 3.4.2 Validointi - augmentoitu"
   ]
  },
  {
   "cell_type": "markdown",
   "id": "db12dcfd-726d-40ff-b845-7bb8306738d4",
   "metadata": {},
   "source": [
    "![image](https://gitlab.dclabra.fi/wiki/uploads/upload_24028797b0d76551e04882f3838bad32.png)"
   ]
  },
  {
   "cell_type": "markdown",
   "id": "c770fbde-235a-4e94-ad76-64f6e598dfb8",
   "metadata": {},
   "source": [
    "### 3.4.3 Ennusteiden visualisointi - augmentoitu - ensimmäiset 100"
   ]
  },
  {
   "cell_type": "markdown",
   "id": "e2631b36-57ab-47f5-8b05-04e664aaafe9",
   "metadata": {},
   "source": [
    "![image](https://gitlab.dclabra.fi/wiki/uploads/upload_0a0b4ff772d6954722b3a1942600c518.png)\n",
    "![image](https://gitlab.dclabra.fi/wiki/uploads/upload_eaee1a2e378e03aa03cd9ca43f8fb677.png)\n",
    "![image](https://gitlab.dclabra.fi/wiki/uploads/upload_49ba1a67b4be9313ce73e92417c05ba3.png)\n",
    "![image](https://gitlab.dclabra.fi/wiki/uploads/upload_09470a865235cdb5bc68d7baa6c0476c.png)"
   ]
  }
 ],
 "metadata": {
  "kernelspec": {
   "display_name": "Python 3 (ipykernel)",
   "language": "python",
   "name": "python3"
  },
  "language_info": {
   "codemirror_mode": {
    "name": "ipython",
    "version": 3
   },
   "file_extension": ".py",
   "mimetype": "text/x-python",
   "name": "python",
   "nbconvert_exporter": "python",
   "pygments_lexer": "ipython3",
   "version": "3.9.6"
  }
 },
 "nbformat": 4,
 "nbformat_minor": 5
}
