{
 "cells": [
  {
   "cell_type": "markdown",
   "id": "882b6667-8d7b-4fef-a3ae-344e23ace503",
   "metadata": {},
   "source": [
    "# Extract sheet image from datx-file either to a file or into the memory buffer\n",
    "If saved to file, imagefile has same name than the original datx-file except for filetype. Filetype can be either bmp or jpeg."
   ]
  },
  {
   "cell_type": "code",
   "execution_count": 1,
   "id": "8a4ed5ab-a30b-42a8-b5dc-729a23155c37",
   "metadata": {},
   "outputs": [],
   "source": [
    "import os\n",
    "import shutil\n",
    "import zipfile\n",
    "import io\n",
    "def extractImage(datx_fullfilepath, image_targetfolder=None, writeMode='memory'):\n",
    "    \"\"\"\n",
    "    -------------------\n",
    "    VERSION: 2021-11-15\n",
    "    -------------------\n",
    "    \n",
    "    Either extract ColorImage from .datx-file or read it into memory.\n",
    "    \n",
    "    As a remainder, default paths to datx-files (add a filename to these):\n",
    "    ----------------------------------------------------------------------\n",
    "    \n",
    "    peel datx-files = '/home/jovyan/work/data/nfs_shared_data/Raute/ai-2021h2-data/rawdata/3-Sorvi/koivu/testRun20210505/'\n",
    "    dry datx-files = '/home/jovyan/work/data/nfs_shared_data/Raute/ai-2021h2-data/rawdata/3-Kuivaus/testRun20210505/'\n",
    "    \n",
    "    Parameters as a string:\n",
    "    -----------------------\n",
    "    \n",
    "    - datx_fullfilepath\n",
    "    - image_targetfolder (case extracting only, optional, default=None) - if not None image will be moved from current working directory to the target folder\n",
    "    - writeMode ('memory' or 'disk') - if 'memory' image is returned as memory buffer, if 'disk' image will be extracted to disk and nothing is returned\n",
    "    \n",
    "    Case extracting image\n",
    "    ---------------------\n",
    "    Extracts ColorImage from .datx file, renames it to match the datx-file and moves it to desired folder. Creates the desired folder if it doesn't exist.\n",
    "    \n",
    "    Extracting example:\n",
    "    -------------------\n",
    "    \n",
    "    datxFile = '/home/jovyan/work/data/nfs_shared_data/Raute/ai-2021h2-data/rawdata/3-Sorvi/koivu/testRun20210505/20210505123334_85.datx'\n",
    "    image_targetfolder = '/home/jovyan/work/team-network-training/SheetImages/'\n",
    "    extractImage(datx_fullfilepath, image_targetfolder, writeMode='disk')\n",
    "    \n",
    "    \n",
    "    Case reading image into memory\n",
    "    ------------------------------\n",
    "    \n",
    "    Istead of saving image to disk, just return the image as a memory buffer.\n",
    "    \n",
    "    Memory reading example\n",
    "    ----------------------\n",
    "    datxFile = '/home/jovyan/work/data/nfs_shared_data/Raute/ai-2021h2-data/rawdata/3-Sorvi/koivu/testRun20210505/20210505123334_85.datx'\n",
    "    myimage = extractImage(datx_fullfilepath=datxFile)\n",
    "    \n",
    "    Then load image with image reading libraries:\n",
    "    from PIL import Image\n",
    "    import matplotlib.pyplot as plt\n",
    "    img = Image.open(myimage)\n",
    "    plt.imshow(img)\n",
    "    img.close() # Remember to close image after reading!\n",
    "    \"\"\"\n",
    "    \n",
    "    datx_filename = os.path.basename(datx_fullfilepath) # get filename without path\n",
    "    imagename = datx_filename.rstrip('datx') # use otherwise same name for image except for the filetype (filetype determined when looking inside the datx-file)\n",
    "    if image_targetfolder != None: image_targetfolder = os.path.join(image_targetfolder,'')\n",
    "    if writeMode == 'disk':\n",
    "        with zipfile.ZipFile(datx_fullfilepath, \"r\") as zip_ref:\n",
    "            filelist = zip_ref.namelist()\n",
    "            for file in filelist:\n",
    "                # Looking for the desired file 'ColorImage.bmp'\n",
    "                if 'ColorImage' in file:\n",
    "                    if file.endswith('jpeg'):\n",
    "                        imagename += 'jpeg'\n",
    "                    else:\n",
    "                        imagename += 'bmp'\n",
    "                    ColorImage = zip_ref.open(file) # When found open it from the datx\n",
    "                    # Code below is for saving without folderstructure\n",
    "                    # Partially adapted from: https://stackoverflow.com/questions/46954626/extract-zip-file-without-folder-python\n",
    "                    with open(imagename,'wb') as imagefile: \n",
    "                        shutil.copyfileobj(ColorImage,imagefile)\n",
    "                    break # After the desired image is found, stop looking and exit\n",
    "        # Move created image to desired path; leave to working directory if image_targetfolder=None:\n",
    "        # os.rename(os.getcwd()+'/'+imagename,image_targetfolder+imagename)\n",
    "        if image_targetfolder != None:\n",
    "            os.makedirs(image_targetfolder, exist_ok=True)\n",
    "            shutil.move(os.getcwd()+'/'+imagename,image_targetfolder+imagename)\n",
    "    elif writeMode == 'memory':\n",
    "        with zipfile.ZipFile(datx_fullfilepath, \"r\") as zip_ref:\n",
    "            filelist = zip_ref.namelist()\n",
    "            for file in filelist:\n",
    "                if 'ColorImage' in file: \n",
    "                    #Tutorial where part of this is copyed: https://stackoverflow.com/questions/31777169/python-how-to-read-images-from-zip-file-in-memory\n",
    "                    ColorImageBmp = zip_ref.read(file) # When found open it from the datx\n",
    "                    dataEnc = io.BytesIO(ColorImageBmp)\n",
    "                    return dataEnc"
   ]
  },
  {
   "cell_type": "markdown",
   "id": "3c1d12ad-45f4-45f3-9e8f-95d6152e06f0",
   "metadata": {},
   "source": [
    "# Testing to extract image from one file"
   ]
  },
  {
   "cell_type": "markdown",
   "id": "41921710-1789-4bb5-8140-5d3b5c80300a",
   "metadata": {},
   "source": [
    "## Extract to disk"
   ]
  },
  {
   "cell_type": "code",
   "execution_count": 2,
   "id": "73929347-a833-4640-b2c1-9c35cd9e527f",
   "metadata": {},
   "outputs": [],
   "source": [
    "datxFile = '/home/jovyan/work/data/nfs_shared_data/Raute/ai-2021h2-data/rawdata/3-Sorvi/koivu/testRun20210505/20210505123334_85.datx'\n",
    "#datxFile = '/home/jovyan/work/data/nfs_shared_data/Raute/ai-2021h2-data/rawdata/3-Sorvi/koivu/testRun20210505/20210505135613_40.datx'\n",
    "image_targetfolder = '/home/jovyan/work/team-network-training/SheetImages/'\n",
    "extractImage(datx_fullfilepath=datxFile,image_targetfolder=image_targetfolder,writeMode='disk')"
   ]
  },
  {
   "cell_type": "markdown",
   "id": "d89097bf-2261-4ab8-9952-c7c9e027a810",
   "metadata": {},
   "source": [
    "## Extract to memory and show image"
   ]
  },
  {
   "cell_type": "code",
   "execution_count": 2,
   "id": "20c61082-97b1-4a86-9a94-c673de4289a9",
   "metadata": {},
   "outputs": [],
   "source": [
    "datxFile = '/home/jovyan/work/data/nfs_shared_data/Raute/ai-2021h2-data/rawdata/3-Sorvi/koivu/testRun20210505/20210505123334_85.datx'\n",
    "myimage = extractImage(datx_fullfilepath=datxFile,writeMode='memory')"
   ]
  },
  {
   "cell_type": "code",
   "execution_count": 3,
   "id": "bc74aa15-76d8-4ff3-ab95-28e75c979f7b",
   "metadata": {},
   "outputs": [],
   "source": [
    "from PIL import Image, ImageOps\n",
    "img = Image.open(myimage)"
   ]
  },
  {
   "cell_type": "code",
   "execution_count": 6,
   "id": "b953f721-d486-4041-a870-0f83bead5458",
   "metadata": {},
   "outputs": [],
   "source": [
    "# Show image\n",
    "#img"
   ]
  },
  {
   "cell_type": "code",
   "execution_count": 5,
   "id": "8fdb8213-2799-49cc-a6ab-db4446188113",
   "metadata": {
    "tags": []
   },
   "outputs": [],
   "source": [
    "img.close()"
   ]
  },
  {
   "cell_type": "markdown",
   "id": "10d2c635-ba71-4a85-a9eb-d1843abb4130",
   "metadata": {},
   "source": [
    "# Extract all verified peel sheet images (Note that 146 images takes ~600 megabytes)"
   ]
  },
  {
   "cell_type": "code",
   "execution_count": 3,
   "id": "dfcf377d-8763-48e6-ac38-0c8e2d59b3c9",
   "metadata": {},
   "outputs": [],
   "source": [
    "import pandas as pd\n",
    "pairs = pd.read_csv(\"/home/jovyan/work/data/nfs_shared_data/Raute/JsonForSchoolProjectTest/VerifiedPairs.csv\")\n",
    "\n",
    "pairs.drop(columns=[\"Unnamed: 0\"],inplace=True)\n",
    "\n",
    "pairs['pFile']=pairs.pFile.str.replace('bmp','datx')\n",
    "\n",
    "peelpath = '/home/jovyan/work/data/nfs_shared_data/Raute/ai-2021h2-data/rawdata/3-Sorvi/koivu/testRun20210505/'\n",
    "peelFileList = []\n",
    "\n",
    "for file in pairs['pFile']:\n",
    "    peelFileList.append(peelpath+file)"
   ]
  },
  {
   "cell_type": "code",
   "execution_count": 4,
   "id": "c99b93ec-20a4-480b-aad8-2e103bf1cc5f",
   "metadata": {},
   "outputs": [],
   "source": [
    "image_targetfolder = '/home/jovyan/work/SheetImages/Peel/'\n",
    "os.makedirs(image_targetfolder, exist_ok=True)\n",
    "for peelFile in peelFileList:\n",
    "    extractImage(datx_fullfilepath=peelFile,image_targetfolder=image_targetfolder,writeMode='disk')"
   ]
  },
  {
   "cell_type": "markdown",
   "id": "af464974-c0b2-4e19-8df0-34d3bbd30c9e",
   "metadata": {},
   "source": [
    "# Extract all verified dry sheet images (these take ~600 megabytes too)"
   ]
  },
  {
   "cell_type": "code",
   "execution_count": 5,
   "id": "37198e5e-c39e-4eeb-b116-d43847038eec",
   "metadata": {},
   "outputs": [],
   "source": [
    "pairs['dFile']=pairs.dFile.str.replace('bmp','datx')\n",
    "\n",
    "drypath = '/home/jovyan/work/data/nfs_shared_data/Raute/ai-2021h2-data/rawdata/3-Kuivaus/testRun20210505/'\n",
    "dryFileList = []\n",
    "for file in pairs['dFile']:\n",
    "    dryFileList.append(drypath+file)"
   ]
  },
  {
   "cell_type": "code",
   "execution_count": 6,
   "id": "a75448d1-1dfd-46d9-9852-62e3b6b4e80a",
   "metadata": {},
   "outputs": [],
   "source": [
    "image_targetfolder = '/home/jovyan/work/SheetImages/Dry'\n",
    "os.makedirs(image_targetfolder, exist_ok=True)\n",
    "for dryFile in dryFileList:\n",
    "    extractImage(datx_fullfilepath=dryFile,image_targetfolder=image_targetfolder,writeMode='disk')"
   ]
  }
 ],
 "metadata": {
  "kernelspec": {
   "display_name": "Python 3 (ipykernel)",
   "language": "python",
   "name": "python3"
  },
  "language_info": {
   "codemirror_mode": {
    "name": "ipython",
    "version": 3
   },
   "file_extension": ".py",
   "mimetype": "text/x-python",
   "name": "python",
   "nbconvert_exporter": "python",
   "pygments_lexer": "ipython3",
   "version": "3.9.6"
  }
 },
 "nbformat": 4,
 "nbformat_minor": 5
}
