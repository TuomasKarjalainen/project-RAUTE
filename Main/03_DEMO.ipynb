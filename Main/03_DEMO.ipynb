{
 "cells": [
  {
   "cell_type": "markdown",
   "id": "d90752a6-6486-4e22-a544-6a8285bc4751",
   "metadata": {},
   "source": [
    "# Sprint 3 - DEMO\n",
    "## Team Network Training"
   ]
  },
  {
   "cell_type": "markdown",
   "id": "d0c3e9a2-e0b1-41a6-b332-6723a7af1569",
   "metadata": {},
   "source": [
    "# 1 Data ja datan esikäsittely"
   ]
  },
  {
   "cell_type": "markdown",
   "id": "345426e9-e3eb-4fb0-b649-fcb78d237776",
   "metadata": {},
   "source": [
    "## 1.1 Datan muoto"
   ]
  },
  {
   "cell_type": "markdown",
   "id": "e8c7616a-9b9b-47a8-b8f0-494ecd54f081",
   "metadata": {},
   "source": [
    "### ObjectManagerista karsittu versio json-muodossa"
   ]
  },
  {
   "cell_type": "markdown",
   "id": "389bb6a2-b9f0-4282-857c-becd3df19253",
   "metadata": {},
   "source": [
    "![image](https://gitlab.dclabra.fi/wiki/uploads/upload_12b67741c6aabadb5e10bcf2f4381612.png)"
   ]
  },
  {
   "cell_type": "markdown",
   "id": "1cc1eb4b-1e68-4e22-b53c-a3c69d9b6ff5",
   "metadata": {},
   "source": [
    "## 1.2 Esikäsittelyn ensimmäinen idea - jako yhdeksään blokkiin"
   ]
  },
  {
   "cell_type": "markdown",
   "id": "11b11c1d-6eb9-47f3-b6c2-17b11971a2aa",
   "metadata": {},
   "source": [
    "Jako yhdeksään blokkiin toteutettiin määrittämällä arkin minimi- ja maksimikoordinaatit. Näiden perusteella laskettiin tasavälisetkohdat, joista arkki viipaloitiin yhtä suuriin alueisiin. Toistaseksi emme ole vielä miettineet, mitä tehdä pinta-alaltaan erikokoisten arkkien kanssa (niitä ei varmistetuissa pareissa ole, vaikka koko +300 arkin setissä onkin).\n",
    "\n",
    "Aluksi luulimme, että joudumme itse laskemaan minimi- ja maksimikoordinaatit. Myöhemmin osoittautui, että karsitusta objektidatasta oli vain jäänyt nurkkakoordinaatit pois. Kuitenkin tämä yritys määrittää koordinaatit itse - ja tarkoituksella ensisijaisesti nimenomaan pelkästään objektidataa käyttämällä, siis lukematta suoraan kuvan pikseleitä - osoittautui erittäin hyödylliseksi.\n",
    "\n",
    "Tutkimustyön myötä huomasimme vähän vahingossa muita kummallisuuksia datassa sekä yhden tekemäämme blokkeihin jakoon liittyvän ongelman."
   ]
  },
  {
   "cell_type": "markdown",
   "id": "5b059b59-fb92-413f-922a-019e7b1cc072",
   "metadata": {},
   "source": [
    "![image](https://gitlab.dclabra.fi/KostiKaa/team-network-training/uploads/d6922ff6a34dd7c40fa504afcf45bdb4/image.png)"
   ]
  },
  {
   "cell_type": "markdown",
   "id": "d694c1e3-dc61-4649-876e-9780a3d14e52",
   "metadata": {},
   "source": [
    "Blokkeihin jakoa varten teimme funktion/moduulin, joka määrittää kuvassa näkyvät koordinaatit.\n",
    "- `coodinates.py`\n",
    "\n",
    "![image](https://gitlab.dclabra.fi/wiki/uploads/upload_8777cd618167f1b73d82529f743215f0.png)"
   ]
  },
  {
   "cell_type": "markdown",
   "id": "096f049b-4780-418d-ac3c-220c75a76eef",
   "metadata": {},
   "source": [
    "## 1.3 Datassa havaitut poikkeamat"
   ]
  },
  {
   "cell_type": "markdown",
   "id": "d8380f59-875c-4716-9f9d-6e876a1af32f",
   "metadata": {},
   "source": [
    "### 1.3.1 Hyvältä näyttävä esimerkkiarkki"
   ]
  },
  {
   "cell_type": "markdown",
   "id": "10b404a6-12a7-48c3-8488-18419d0f002a",
   "metadata": {},
   "source": [
    "![image](https://gitlab.dclabra.fi/wiki/uploads/upload_5afaa6f39e0e54c819d7e1051146ccf5.png)"
   ]
  },
  {
   "cell_type": "markdown",
   "id": "993d0089-c099-4fd5-affb-0fd8127b78d9",
   "metadata": {},
   "source": [
    "### 1.3.2 Outlierit - ohi arkin osuva vikadata "
   ]
  },
  {
   "cell_type": "markdown",
   "id": "853a0a7d-5edb-469a-b3b6-28f6484b2d37",
   "metadata": {},
   "source": [
    "![image](https://gitlab.dclabra.fi/wiki/uploads/upload_84ab2dcd917324f6e13f111efdabf51a.png)\n",
    "\n",
    "![image](https://gitlab.dclabra.fi/wiki/uploads/upload_3229c7300aef62a177bd352b84f58305.png)"
   ]
  },
  {
   "cell_type": "markdown",
   "id": "c4a11140-bbfb-427f-af97-292159298002",
   "metadata": {},
   "source": [
    "### 1.3.3 Puutteelliset tiheyssensorimerkinnät"
   ]
  },
  {
   "cell_type": "markdown",
   "id": "f730c49f-44c3-4f4d-88a0-2684a40962c7",
   "metadata": {},
   "source": [
    "Datasta löytyi myös arkkeja, joissa tiheyssensorin merkinnät olivat puutteelliset. Tehtäessä blokkeihin jakoa tämä tuotti NaN-arvoja tiheysarvojen laskennassa. Työ asian sopivaksi ratkaisuksi on yhä kesken."
   ]
  },
  {
   "cell_type": "markdown",
   "id": "f1a7173c-cbf7-493e-82bd-b2e01fb7f135",
   "metadata": {},
   "source": [
    "#### 1.3.3.1 Kokonaan puuttuva oikea laita"
   ]
  },
  {
   "cell_type": "markdown",
   "id": "799dcd1e-ae7f-4a0c-9e84-98106f9281ab",
   "metadata": {},
   "source": [
    "![image](https://gitlab.dclabra.fi/wiki/uploads/upload_a82dc09afebdd82adaaa51af77f0a225.png)"
   ]
  },
  {
   "cell_type": "markdown",
   "id": "8a07bb17-83fd-47c9-be05-26df9b1803b9",
   "metadata": {},
   "source": [
    "#### 1.3.3.2 Vajaa oikea laita\n",
    "\n",
    "![image](https://gitlab.dclabra.fi/wiki/uploads/upload_b6c49d3ef7b13799192135595bd87d3c.png)\n",
    "\n",
    "![image](https://gitlab.dclabra.fi/wiki/uploads/upload_fa1b71c22fe192c2a81950e5b370049f.png)"
   ]
  },
  {
   "cell_type": "markdown",
   "id": "c6b7b8cf-e07c-4cfd-829f-96cb3583aeaa",
   "metadata": {},
   "source": [
    "#### 1.3.3.3 Vajaa oikea ja vasen laita\n",
    "\n",
    "![image](https://gitlab.dclabra.fi/wiki/uploads/upload_0fc50aa97ef43aa3621b7866825b8929.png)\n",
    "\n",
    "![image](https://gitlab.dclabra.fi/wiki/uploads/upload_38d89bfbdf7e0a9e70f2f43c7ba7f189.png)"
   ]
  },
  {
   "cell_type": "markdown",
   "id": "22df92f3-9f90-49d8-8018-32c9a1d310db",
   "metadata": {},
   "source": [
    "#### 1.3.3.4 Kokonaan puuttuvat tiheyssensorimerkinnät\n",
    "\n",
    "![image](https://gitlab.dclabra.fi/wiki/uploads/upload_448f8a5719213612a43eaca1732c468e.png)"
   ]
  },
  {
   "cell_type": "markdown",
   "id": "b7ec133b-fff8-4a9f-81ed-b5039008f41d",
   "metadata": {},
   "source": [
    "### 1.4 Haaste itse blokkien jaon alkuperäisideassa"
   ]
  },
  {
   "cell_type": "markdown",
   "id": "05590cf0-1f7d-4985-962c-5c7ac970ae45",
   "metadata": {},
   "source": [
    "Blokkeihin jaossa alkuperäinen ajatus oli asettaa aina yksi arvo yksiselitteisesti yhteen blokkiin ja laskea sitten näistä arvoista joko keskiarvot (kosteus, lämpötila, tiheys) tai kokonaismäärät ja kokonaismitat (oksat, lahoumat ja kaikki muut viat). Vikojen osalta tällainen yksiselitteinen jako oli mahdollinen, koska vian sijainti määritetään painovoimakeskipisteen mukaan.\n",
    "\n",
    "Sen sijaan kosteus- ja tiheyssensorien yksi lukema otetaan aina neljän koordinaattipisteen muodostamasta alueesta. Tämän hetken blokkeihin määrittelyssämme alue, joka jakaantuu useamman blokin kesken, ei päädy antamaan lukemaansa millekään blokille, vaan jää pois laskutoimituksista."
   ]
  },
  {
   "cell_type": "markdown",
   "id": "a824d75f-53a8-4f04-98c7-28f712e5f19b",
   "metadata": {},
   "source": [
    "![image](https://gitlab.dclabra.fi/wiki/uploads/upload_e7e2ab822770a9b65385356926a33b25.png)"
   ]
  },
  {
   "cell_type": "markdown",
   "id": "1187b484-c2c6-4a99-bbce-f8fe15fd936f",
   "metadata": {},
   "source": [
    "# 2 Piirrematriisin muodostaminen"
   ]
  },
  {
   "cell_type": "markdown",
   "id": "7d72c144-8a69-42b3-ad68-5f82249973f9",
   "metadata": {},
   "source": [
    "## 2.1 Yhdeksän blokin piirrematriisi"
   ]
  },
  {
   "cell_type": "markdown",
   "id": "aa1cba02-f5ec-40bc-b103-6d7600ed5fce",
   "metadata": {},
   "source": [
    "Yhdeksän blokin piirrematriisi on tällä hetkellä pääideamme. Piirrematriisiin otetaan märkäarkista seuraavat peruspiirteet:\n",
    "- (Tiedoston nimi)\n",
    "- Leveys\n",
    "- Pituus\n",
    "- Paksuus\n",
    "\n",
    "Lisäksi jokaiselle yhdeksän blokkia sisältää nämä sarakkeet\n",
    "- Blokin kosteuden keskiarvo\n",
    "- Blokin lämpötilan keskiarvo\n",
    "- Blokin tiheyden keskiarvo\n",
    "- Blokin oksien määrä\n",
    "- Blokin oksien leveyksien summa\n",
    "- Blokin lahoumien määrä\n",
    "- Blokin lahoumien leveyksien summa\n",
    "- Blokin kaikkien muiden vikojen määrä\n",
    "- Blokin kaikkien muiden vikojen leveyksien summa\n",
    "\n",
    "Toistaiseksi kuiva-arkista ei oteta tietoja piirrematriisiin, vaikka esimerkiksi kosteustieto voisikin olla merkityksillinen neuroverkolle.\n",
    "\n",
    "Tällä metodilla piirrematriisiin tulee 3 + 9 * 9 = 84 saraketta ja tiedoston nimi."
   ]
  },
  {
   "cell_type": "markdown",
   "id": "9521bd64-6afd-441a-8558-f7298e4b0b84",
   "metadata": {},
   "source": [
    "Funktio `featureMatrix()` muodostaa piirrematriisin ensin pyytämällä funktiolta `coordinates()` arkin blokkien jakoon tarvittavat koordinaatit, ja funktiolta `createColumns()` arkin oleellisen datan. Näiden tietojen perusteella `featureMatrix()` muodostaa piirrematriisiin tarvittavat sarakkeet ja laskee keskiarvot/määrät eri piirteille. Lopputulemana funktio palauttaa Pandasin dataframen, joka sisältää piirrematriisin yhden rivin - eli kaiken tiedon yhdestä viiluarkista.\n",
    "\n",
    "Täyden piirrematriisin muodostamisen hoitaa `create_full_feature_and_target_matrix()`-funktio, jonka tehtävänä on kutsua `featureMatrix()`-funktiota käyden kaiken datan läpi ja koostamalla niistä täyden piirrematriisin."
   ]
  },
  {
   "cell_type": "code",
   "execution_count": 1,
   "id": "b5b9ccdb-675d-495c-9afb-d44773a41eab",
   "metadata": {},
   "outputs": [],
   "source": [
    "from Modules.full_feature_matrix import create_full_feature_and_target_matrix"
   ]
  },
  {
   "cell_type": "code",
   "execution_count": 2,
   "id": "9de5905f-a865-4ce2-96b4-614a671889f9",
   "metadata": {},
   "outputs": [
    {
     "name": "stdout",
     "output_type": "stream",
     "text": [
      "CPU times: user 56 s, sys: 3.15 s, total: 59.1 s\n",
      "Wall time: 54.8 s\n"
     ]
    }
   ],
   "source": [
    "%%time\n",
    "X, Y = create_full_feature_and_target_matrix(printProgress=True)"
   ]
  },
  {
   "cell_type": "code",
   "execution_count": 13,
   "id": "20f67ce7-8192-451b-840e-8e4df43d4e43",
   "metadata": {},
   "outputs": [
    {
     "data": {
      "text/html": [
       "<div>\n",
       "<style scoped>\n",
       "    .dataframe tbody tr th:only-of-type {\n",
       "        vertical-align: middle;\n",
       "    }\n",
       "\n",
       "    .dataframe tbody tr th {\n",
       "        vertical-align: top;\n",
       "    }\n",
       "\n",
       "    .dataframe thead th {\n",
       "        text-align: right;\n",
       "    }\n",
       "</style>\n",
       "<table border=\"1\" class=\"dataframe\">\n",
       "  <thead>\n",
       "    <tr style=\"text-align: right;\">\n",
       "      <th></th>\n",
       "      <th>peelFile</th>\n",
       "      <th>m_uWidth</th>\n",
       "      <th>m_uLength</th>\n",
       "      <th>m_dThickness</th>\n",
       "      <th>B1MoistureAvg</th>\n",
       "      <th>B1TemperatureAvg</th>\n",
       "      <th>B1DensityAvg</th>\n",
       "      <th>B1KnotWidthSum</th>\n",
       "      <th>B1KnotCount</th>\n",
       "      <th>B1DecayWidthSum</th>\n",
       "      <th>...</th>\n",
       "      <th>B8AllOtherDefectCount</th>\n",
       "      <th>B9MoistureAvg</th>\n",
       "      <th>B9TemperatureAvg</th>\n",
       "      <th>B9DensityAvg</th>\n",
       "      <th>B9KnotWidthSum</th>\n",
       "      <th>B9KnotCount</th>\n",
       "      <th>B9DecayWidthSum</th>\n",
       "      <th>B9DecayCount</th>\n",
       "      <th>B9AllOtherDefectWidthSum</th>\n",
       "      <th>B9AllOtherDefectCount</th>\n",
       "    </tr>\n",
       "  </thead>\n",
       "  <tbody>\n",
       "    <tr>\n",
       "      <th>0</th>\n",
       "      <td>20210505123334_85.datx</td>\n",
       "      <td>1750.23265</td>\n",
       "      <td>1599.76152</td>\n",
       "      <td>1.56</td>\n",
       "      <td>117.582404</td>\n",
       "      <td>33.010073</td>\n",
       "      <td>1004.081748</td>\n",
       "      <td>125.39330</td>\n",
       "      <td>11</td>\n",
       "      <td>26.9537</td>\n",
       "      <td>...</td>\n",
       "      <td>0</td>\n",
       "      <td>125.324911</td>\n",
       "      <td>33.845573</td>\n",
       "      <td>1028.419309</td>\n",
       "      <td>157.62055</td>\n",
       "      <td>19</td>\n",
       "      <td>39.25865</td>\n",
       "      <td>2</td>\n",
       "      <td>16.99255</td>\n",
       "      <td>2</td>\n",
       "    </tr>\n",
       "    <tr>\n",
       "      <th>1</th>\n",
       "      <td>20210505135613_40.datx</td>\n",
       "      <td>1750.23265</td>\n",
       "      <td>1603.25064</td>\n",
       "      <td>1.56</td>\n",
       "      <td>92.388576</td>\n",
       "      <td>30.617250</td>\n",
       "      <td>NaN</td>\n",
       "      <td>0.00000</td>\n",
       "      <td>0</td>\n",
       "      <td>0.0000</td>\n",
       "      <td>...</td>\n",
       "      <td>0</td>\n",
       "      <td>98.377927</td>\n",
       "      <td>27.752846</td>\n",
       "      <td>1345.817186</td>\n",
       "      <td>26.36775</td>\n",
       "      <td>4</td>\n",
       "      <td>0.00000</td>\n",
       "      <td>0</td>\n",
       "      <td>0.00000</td>\n",
       "      <td>0</td>\n",
       "    </tr>\n",
       "    <tr>\n",
       "      <th>2</th>\n",
       "      <td>20210505150804_9.datx</td>\n",
       "      <td>1750.23265</td>\n",
       "      <td>1599.18000</td>\n",
       "      <td>1.56</td>\n",
       "      <td>101.473622</td>\n",
       "      <td>34.158417</td>\n",
       "      <td>961.639685</td>\n",
       "      <td>0.00000</td>\n",
       "      <td>0</td>\n",
       "      <td>0.0000</td>\n",
       "      <td>...</td>\n",
       "      <td>0</td>\n",
       "      <td>102.674582</td>\n",
       "      <td>34.486729</td>\n",
       "      <td>NaN</td>\n",
       "      <td>12.89090</td>\n",
       "      <td>1</td>\n",
       "      <td>0.00000</td>\n",
       "      <td>0</td>\n",
       "      <td>7.03140</td>\n",
       "      <td>1</td>\n",
       "    </tr>\n",
       "    <tr>\n",
       "      <th>3</th>\n",
       "      <td>20210505125941_29.datx</td>\n",
       "      <td>1750.23265</td>\n",
       "      <td>1601.50608</td>\n",
       "      <td>1.56</td>\n",
       "      <td>88.373384</td>\n",
       "      <td>35.438937</td>\n",
       "      <td>827.377599</td>\n",
       "      <td>21.68015</td>\n",
       "      <td>2</td>\n",
       "      <td>0.0000</td>\n",
       "      <td>...</td>\n",
       "      <td>0</td>\n",
       "      <td>92.668053</td>\n",
       "      <td>35.587054</td>\n",
       "      <td>NaN</td>\n",
       "      <td>49.21980</td>\n",
       "      <td>3</td>\n",
       "      <td>0.00000</td>\n",
       "      <td>0</td>\n",
       "      <td>16.40660</td>\n",
       "      <td>4</td>\n",
       "    </tr>\n",
       "    <tr>\n",
       "      <th>4</th>\n",
       "      <td>20210505123435_23.datx</td>\n",
       "      <td>1750.23265</td>\n",
       "      <td>1600.34304</td>\n",
       "      <td>1.56</td>\n",
       "      <td>120.877675</td>\n",
       "      <td>35.854021</td>\n",
       "      <td>956.372132</td>\n",
       "      <td>22.26610</td>\n",
       "      <td>3</td>\n",
       "      <td>0.0000</td>\n",
       "      <td>...</td>\n",
       "      <td>1</td>\n",
       "      <td>115.523224</td>\n",
       "      <td>35.723542</td>\n",
       "      <td>960.543745</td>\n",
       "      <td>15.82065</td>\n",
       "      <td>3</td>\n",
       "      <td>0.00000</td>\n",
       "      <td>0</td>\n",
       "      <td>450.00960</td>\n",
       "      <td>1</td>\n",
       "    </tr>\n",
       "    <tr>\n",
       "      <th>...</th>\n",
       "      <td>...</td>\n",
       "      <td>...</td>\n",
       "      <td>...</td>\n",
       "      <td>...</td>\n",
       "      <td>...</td>\n",
       "      <td>...</td>\n",
       "      <td>...</td>\n",
       "      <td>...</td>\n",
       "      <td>...</td>\n",
       "      <td>...</td>\n",
       "      <td>...</td>\n",
       "      <td>...</td>\n",
       "      <td>...</td>\n",
       "      <td>...</td>\n",
       "      <td>...</td>\n",
       "      <td>...</td>\n",
       "      <td>...</td>\n",
       "      <td>...</td>\n",
       "      <td>...</td>\n",
       "      <td>...</td>\n",
       "      <td>...</td>\n",
       "    </tr>\n",
       "    <tr>\n",
       "      <th>141</th>\n",
       "      <td>20210505125748_61.datx</td>\n",
       "      <td>1750.23265</td>\n",
       "      <td>1600.92456</td>\n",
       "      <td>1.56</td>\n",
       "      <td>93.128344</td>\n",
       "      <td>27.922545</td>\n",
       "      <td>865.955931</td>\n",
       "      <td>65.04045</td>\n",
       "      <td>10</td>\n",
       "      <td>0.0000</td>\n",
       "      <td>...</td>\n",
       "      <td>0</td>\n",
       "      <td>96.907931</td>\n",
       "      <td>27.696730</td>\n",
       "      <td>884.802702</td>\n",
       "      <td>87.30655</td>\n",
       "      <td>9</td>\n",
       "      <td>68.55615</td>\n",
       "      <td>2</td>\n",
       "      <td>0.00000</td>\n",
       "      <td>0</td>\n",
       "    </tr>\n",
       "    <tr>\n",
       "      <th>142</th>\n",
       "      <td>20210505145008_84.datx</td>\n",
       "      <td>1750.23265</td>\n",
       "      <td>1601.50608</td>\n",
       "      <td>1.56</td>\n",
       "      <td>95.698248</td>\n",
       "      <td>36.123000</td>\n",
       "      <td>952.906867</td>\n",
       "      <td>56.25120</td>\n",
       "      <td>7</td>\n",
       "      <td>0.0000</td>\n",
       "      <td>...</td>\n",
       "      <td>0</td>\n",
       "      <td>99.479994</td>\n",
       "      <td>35.438239</td>\n",
       "      <td>947.239349</td>\n",
       "      <td>67.97020</td>\n",
       "      <td>9</td>\n",
       "      <td>0.00000</td>\n",
       "      <td>0</td>\n",
       "      <td>0.00000</td>\n",
       "      <td>0</td>\n",
       "    </tr>\n",
       "    <tr>\n",
       "      <th>143</th>\n",
       "      <td>20210505125913_15.datx</td>\n",
       "      <td>1614.87820</td>\n",
       "      <td>1596.85392</td>\n",
       "      <td>1.56</td>\n",
       "      <td>89.492242</td>\n",
       "      <td>35.878303</td>\n",
       "      <td>853.189124</td>\n",
       "      <td>43.94625</td>\n",
       "      <td>7</td>\n",
       "      <td>0.0000</td>\n",
       "      <td>...</td>\n",
       "      <td>0</td>\n",
       "      <td>87.113549</td>\n",
       "      <td>35.705853</td>\n",
       "      <td>NaN</td>\n",
       "      <td>60.93880</td>\n",
       "      <td>11</td>\n",
       "      <td>0.00000</td>\n",
       "      <td>0</td>\n",
       "      <td>0.00000</td>\n",
       "      <td>0</td>\n",
       "    </tr>\n",
       "    <tr>\n",
       "      <th>144</th>\n",
       "      <td>20210505124918_24.datx</td>\n",
       "      <td>1750.23265</td>\n",
       "      <td>1601.50608</td>\n",
       "      <td>1.56</td>\n",
       "      <td>89.761967</td>\n",
       "      <td>35.592812</td>\n",
       "      <td>912.424399</td>\n",
       "      <td>96.68175</td>\n",
       "      <td>11</td>\n",
       "      <td>0.0000</td>\n",
       "      <td>...</td>\n",
       "      <td>0</td>\n",
       "      <td>90.379964</td>\n",
       "      <td>34.953594</td>\n",
       "      <td>NaN</td>\n",
       "      <td>79.10325</td>\n",
       "      <td>9</td>\n",
       "      <td>94.92390</td>\n",
       "      <td>7</td>\n",
       "      <td>0.00000</td>\n",
       "      <td>0</td>\n",
       "    </tr>\n",
       "    <tr>\n",
       "      <th>145</th>\n",
       "      <td>20210505123049_48.datx</td>\n",
       "      <td>1750.23265</td>\n",
       "      <td>1596.85392</td>\n",
       "      <td>1.56</td>\n",
       "      <td>106.229193</td>\n",
       "      <td>33.715803</td>\n",
       "      <td>910.443370</td>\n",
       "      <td>8.20330</td>\n",
       "      <td>1</td>\n",
       "      <td>0.0000</td>\n",
       "      <td>...</td>\n",
       "      <td>0</td>\n",
       "      <td>105.891692</td>\n",
       "      <td>33.997678</td>\n",
       "      <td>907.915775</td>\n",
       "      <td>17.57850</td>\n",
       "      <td>1</td>\n",
       "      <td>0.00000</td>\n",
       "      <td>0</td>\n",
       "      <td>0.00000</td>\n",
       "      <td>0</td>\n",
       "    </tr>\n",
       "  </tbody>\n",
       "</table>\n",
       "<p>146 rows × 85 columns</p>\n",
       "</div>"
      ],
      "text/plain": [
       "                   peelFile    m_uWidth   m_uLength  m_dThickness  \\\n",
       "0    20210505123334_85.datx  1750.23265  1599.76152          1.56   \n",
       "1    20210505135613_40.datx  1750.23265  1603.25064          1.56   \n",
       "2     20210505150804_9.datx  1750.23265  1599.18000          1.56   \n",
       "3    20210505125941_29.datx  1750.23265  1601.50608          1.56   \n",
       "4    20210505123435_23.datx  1750.23265  1600.34304          1.56   \n",
       "..                      ...         ...         ...           ...   \n",
       "141  20210505125748_61.datx  1750.23265  1600.92456          1.56   \n",
       "142  20210505145008_84.datx  1750.23265  1601.50608          1.56   \n",
       "143  20210505125913_15.datx  1614.87820  1596.85392          1.56   \n",
       "144  20210505124918_24.datx  1750.23265  1601.50608          1.56   \n",
       "145  20210505123049_48.datx  1750.23265  1596.85392          1.56   \n",
       "\n",
       "     B1MoistureAvg  B1TemperatureAvg  B1DensityAvg  B1KnotWidthSum  \\\n",
       "0       117.582404         33.010073   1004.081748       125.39330   \n",
       "1        92.388576         30.617250           NaN         0.00000   \n",
       "2       101.473622         34.158417    961.639685         0.00000   \n",
       "3        88.373384         35.438937    827.377599        21.68015   \n",
       "4       120.877675         35.854021    956.372132        22.26610   \n",
       "..             ...               ...           ...             ...   \n",
       "141      93.128344         27.922545    865.955931        65.04045   \n",
       "142      95.698248         36.123000    952.906867        56.25120   \n",
       "143      89.492242         35.878303    853.189124        43.94625   \n",
       "144      89.761967         35.592812    912.424399        96.68175   \n",
       "145     106.229193         33.715803    910.443370         8.20330   \n",
       "\n",
       "     B1KnotCount  B1DecayWidthSum  ...  B8AllOtherDefectCount  B9MoistureAvg  \\\n",
       "0             11          26.9537  ...                      0     125.324911   \n",
       "1              0           0.0000  ...                      0      98.377927   \n",
       "2              0           0.0000  ...                      0     102.674582   \n",
       "3              2           0.0000  ...                      0      92.668053   \n",
       "4              3           0.0000  ...                      1     115.523224   \n",
       "..           ...              ...  ...                    ...            ...   \n",
       "141           10           0.0000  ...                      0      96.907931   \n",
       "142            7           0.0000  ...                      0      99.479994   \n",
       "143            7           0.0000  ...                      0      87.113549   \n",
       "144           11           0.0000  ...                      0      90.379964   \n",
       "145            1           0.0000  ...                      0     105.891692   \n",
       "\n",
       "     B9TemperatureAvg  B9DensityAvg  B9KnotWidthSum  B9KnotCount  \\\n",
       "0           33.845573   1028.419309       157.62055           19   \n",
       "1           27.752846   1345.817186        26.36775            4   \n",
       "2           34.486729           NaN        12.89090            1   \n",
       "3           35.587054           NaN        49.21980            3   \n",
       "4           35.723542    960.543745        15.82065            3   \n",
       "..                ...           ...             ...          ...   \n",
       "141         27.696730    884.802702        87.30655            9   \n",
       "142         35.438239    947.239349        67.97020            9   \n",
       "143         35.705853           NaN        60.93880           11   \n",
       "144         34.953594           NaN        79.10325            9   \n",
       "145         33.997678    907.915775        17.57850            1   \n",
       "\n",
       "     B9DecayWidthSum  B9DecayCount  B9AllOtherDefectWidthSum  \\\n",
       "0           39.25865             2                  16.99255   \n",
       "1            0.00000             0                   0.00000   \n",
       "2            0.00000             0                   7.03140   \n",
       "3            0.00000             0                  16.40660   \n",
       "4            0.00000             0                 450.00960   \n",
       "..               ...           ...                       ...   \n",
       "141         68.55615             2                   0.00000   \n",
       "142          0.00000             0                   0.00000   \n",
       "143          0.00000             0                   0.00000   \n",
       "144         94.92390             7                   0.00000   \n",
       "145          0.00000             0                   0.00000   \n",
       "\n",
       "     B9AllOtherDefectCount  \n",
       "0                        2  \n",
       "1                        0  \n",
       "2                        1  \n",
       "3                        4  \n",
       "4                        1  \n",
       "..                     ...  \n",
       "141                      0  \n",
       "142                      0  \n",
       "143                      0  \n",
       "144                      0  \n",
       "145                      0  \n",
       "\n",
       "[146 rows x 85 columns]"
      ]
     },
     "execution_count": 13,
     "metadata": {},
     "output_type": "execute_result"
    }
   ],
   "source": [
    "X"
   ]
  },
  {
   "cell_type": "code",
   "execution_count": 10,
   "id": "3611e713-1c16-4ddc-9b73-45dc9b7a5947",
   "metadata": {},
   "outputs": [
    {
     "data": {
      "text/html": [
       "<div>\n",
       "<style scoped>\n",
       "    .dataframe tbody tr th:only-of-type {\n",
       "        vertical-align: middle;\n",
       "    }\n",
       "\n",
       "    .dataframe tbody tr th {\n",
       "        vertical-align: top;\n",
       "    }\n",
       "\n",
       "    .dataframe thead th {\n",
       "        text-align: right;\n",
       "    }\n",
       "</style>\n",
       "<table border=\"1\" class=\"dataframe\">\n",
       "  <thead>\n",
       "    <tr style=\"text-align: right;\">\n",
       "      <th></th>\n",
       "      <th>dryFile</th>\n",
       "      <th>dryWidth</th>\n",
       "    </tr>\n",
       "  </thead>\n",
       "  <tbody>\n",
       "    <tr>\n",
       "      <th>0</th>\n",
       "      <td>20210505172657_52.datx</td>\n",
       "      <td>1633.089727</td>\n",
       "    </tr>\n",
       "    <tr>\n",
       "      <th>1</th>\n",
       "      <td>20210505163725_33.datx</td>\n",
       "      <td>1600.206205</td>\n",
       "    </tr>\n",
       "    <tr>\n",
       "      <th>2</th>\n",
       "      <td>20210505155509_66.datx</td>\n",
       "      <td>1609.685322</td>\n",
       "    </tr>\n",
       "    <tr>\n",
       "      <th>3</th>\n",
       "      <td>20210505172211_90.datx</td>\n",
       "      <td>1614.120061</td>\n",
       "    </tr>\n",
       "    <tr>\n",
       "      <th>4</th>\n",
       "      <td>20210505172314_13.datx</td>\n",
       "      <td>1620.398997</td>\n",
       "    </tr>\n",
       "    <tr>\n",
       "      <th>...</th>\n",
       "      <td>...</td>\n",
       "      <td>...</td>\n",
       "    </tr>\n",
       "    <tr>\n",
       "      <th>141</th>\n",
       "      <td>20210505172725_63.datx</td>\n",
       "      <td>1628.156770</td>\n",
       "    </tr>\n",
       "    <tr>\n",
       "      <th>142</th>\n",
       "      <td>20210505163636_13.datx</td>\n",
       "      <td>1602.033861</td>\n",
       "    </tr>\n",
       "    <tr>\n",
       "      <th>143</th>\n",
       "      <td>20210505172304_9.datx</td>\n",
       "      <td>1633.337841</td>\n",
       "    </tr>\n",
       "    <tr>\n",
       "      <th>144</th>\n",
       "      <td>20210505164707_82.datx</td>\n",
       "      <td>1594.211502</td>\n",
       "    </tr>\n",
       "    <tr>\n",
       "      <th>145</th>\n",
       "      <td>20210505173215_69.datx</td>\n",
       "      <td>1654.827050</td>\n",
       "    </tr>\n",
       "  </tbody>\n",
       "</table>\n",
       "<p>146 rows × 2 columns</p>\n",
       "</div>"
      ],
      "text/plain": [
       "                    dryFile     dryWidth\n",
       "0    20210505172657_52.datx  1633.089727\n",
       "1    20210505163725_33.datx  1600.206205\n",
       "2    20210505155509_66.datx  1609.685322\n",
       "3    20210505172211_90.datx  1614.120061\n",
       "4    20210505172314_13.datx  1620.398997\n",
       "..                      ...          ...\n",
       "141  20210505172725_63.datx  1628.156770\n",
       "142  20210505163636_13.datx  1602.033861\n",
       "143   20210505172304_9.datx  1633.337841\n",
       "144  20210505164707_82.datx  1594.211502\n",
       "145  20210505173215_69.datx  1654.827050\n",
       "\n",
       "[146 rows x 2 columns]"
      ]
     },
     "execution_count": 10,
     "metadata": {},
     "output_type": "execute_result"
    }
   ],
   "source": [
    "Y"
   ]
  },
  {
   "cell_type": "markdown",
   "id": "229c7bcd-1f33-45b2-ab4b-b4f941457e0a",
   "metadata": {},
   "source": [
    "## 2.2 Karvalakkipiirrematriisi"
   ]
  },
  {
   "cell_type": "markdown",
   "id": "1b5e953a-91f6-486d-9875-9b89b795c63d",
   "metadata": {},
   "source": [
    "Koska yhdeksän blokin piirrematriisi sisältää niin paljon sarakkeita ja dataa on toisteksi vähän, ajattelimme, että testaamme luoda myös vahvasti karsitun version piirrematriisista. Tämä on vielä työn alla, mutta ajatus on, että karvalakkimalli olisi seuraavanlainen:\n",
    "\n",
    "![image](https://gitlab.dclabra.fi/wiki/uploads/upload_d28541b8abb248c4225ec7564ec0f71f.png)"
   ]
  },
  {
   "cell_type": "markdown",
   "id": "63e202e0-9ba0-4b7e-8051-dc7d7d50a440",
   "metadata": {},
   "source": [
    "![image](https://gitlab.dclabra.fi/wiki/uploads/upload_1aeebc4ed26918aadee0c4b25a63f143.png)"
   ]
  },
  {
   "cell_type": "markdown",
   "id": "11184f2f-aa86-4031-b68f-8bdfbff9f5d7",
   "metadata": {},
   "source": [
    "# 3 Tietokanta"
   ]
  },
  {
   "cell_type": "markdown",
   "id": "a33186a8-1eea-40a8-a628-365da2cb13c9",
   "metadata": {},
   "source": [
    "Bull bladelle pystytettiin MariaDB-tietokanta Docker-konttiin. Kontti nostetaan pystyyn Dockerfilen avulla, ja idea on, että pystytyksen yhteydessä populoidaan varmistetut parit sinne samalla.\n",
    "\n",
    "Lisäksi piirrematriisin muodostusfunktioon on työn alla mahdollisuus puskea data tietokantaan. Mahdollinen jako testi-, opetutus- ja validointisetteihin on vielä mietinnässä."
   ]
  },
  {
   "cell_type": "markdown",
   "id": "fe336963-39ab-4176-885e-2e20bbfff945",
   "metadata": {},
   "source": [
    "![image](https://gitlab.dclabra.fi/wiki/uploads/upload_aa601fc1ee73f8bcf509bee1db29bb9e.png)\n",
    "\n",
    "![image](https://gitlab.dclabra.fi/wiki/uploads/upload_95d8fc5f11617bc85ef02de60d9e7507.png)"
   ]
  },
  {
   "cell_type": "markdown",
   "id": "c2b952c8-f7fc-4b9b-acb5-bd19d5a41edb",
   "metadata": {},
   "source": [
    "# 4 Neuroverkko"
   ]
  },
  {
   "cell_type": "markdown",
   "id": "45d03704-e5ec-40a4-af6d-332291cafdac",
   "metadata": {},
   "source": [
    "Neuroverkkoa lähdettiin työstämään TensorFlowlla. Ensiksi teimme hieman tutkimustyötä, että mistä ehkä kannattaisi lähteä liikkeelle ja miten asioita tehdään TensorFlowlla. Sitten otimme tavoitteeksi saada ensimmäisen version neuroverkosta laadittua, ajettua datan sen läpi ilman erroreita ja tulostettua virhefunktion arvon sekä tarkkuusarvon näkyviin."
   ]
  },
  {
   "cell_type": "markdown",
   "id": "b7c8fcc6-c386-4eed-a068-55be9fb20531",
   "metadata": {},
   "source": [
    "**Neuroverkon simppeli prototyyppi**\n",
    "\n",
    "```python\n",
    "from keras.models import Sequential\n",
    "from keras.layers import Dense\n",
    "\n",
    "optim = tf.keras.optimizers.Adam(0.001) # (clipnorm=1.) was said to work when the gradient could be exploding\n",
    "\n",
    "def get_model(n_inputs, n_outputs):\n",
    "    model = Sequential()\n",
    "    model.add(Dense(20, input_dim=n_inputs, activation='relu'))\n",
    "    model.add(Dense(80, activation='relu'))\n",
    "    model.add(Dense(20, activation='relu'))\n",
    "    model.add(Dense(n_outputs))\n",
    "\n",
    "model.compile(loss='mae', optimizer=optim, metrics='mse')\n",
    "    \n",
    "EPOCHS=500\n",
    "history = model.fit(train_set_norm, y_train, \n",
    "          epochs=EPOCHS,\n",
    "          verbose=(1 if EPOCHS % 10 == 0 else 0),\n",
    "          validation_data=(test_set_norm, y_test))\n",
    "```"
   ]
  },
  {
   "cell_type": "markdown",
   "id": "f9cc1af1-3ff1-4db4-958f-d25cf19bc3b7",
   "metadata": {},
   "source": [
    "**Opetus**"
   ]
  },
  {
   "cell_type": "markdown",
   "id": "2b2ed07e-5015-4466-bdae-e6ff23f5b763",
   "metadata": {},
   "source": [
    "![image](https://gitlab.dclabra.fi/wiki/uploads/upload_6466059d29f14aac184fc3cea3d3a90d.png)\n",
    "![image](https://gitlab.dclabra.fi/wiki/uploads/upload_a24bdd11289dcba4e698ff8710fac9b3.png)"
   ]
  },
  {
   "cell_type": "markdown",
   "id": "c770fbde-235a-4e94-ad76-64f6e598dfb8",
   "metadata": {},
   "source": [
    "**Itse ennusteet**"
   ]
  },
  {
   "cell_type": "markdown",
   "id": "f4a733c2-ce6a-4583-9b1a-e2a2e3ded1c9",
   "metadata": {},
   "source": [
    "![image](https://gitlab.dclabra.fi/wiki/uploads/upload_76d488d22e0aad8b75031a52e6b502a9.png)"
   ]
  },
  {
   "cell_type": "markdown",
   "id": "bd6e42c7-97bc-4dd4-95d1-a5d6e0a7e395",
   "metadata": {},
   "source": [
    "Ennusteet ovat siis vielä hyvin kaukana todellisesta, mutta dataakin on hyvin vähän. Virhefunktion arvo selvästi laskee ja ennusteet pyörivät samalla skaalalla, mutta menevät kuitenkin huti. Riittääkö data - ehtiikö neuroverkko oppia? Toisaalta seuraavana testikohteena on, että mitä tapahtuisi sillä karvalakkimallilla - pääsisikö neuroverkko ainakin lähemmäksi totuutta?"
   ]
  },
  {
   "cell_type": "code",
   "execution_count": null,
   "id": "6f2a6ce8-482d-4d83-99b7-afd7af7203fc",
   "metadata": {},
   "outputs": [],
   "source": []
  }
 ],
 "metadata": {
  "kernelspec": {
   "display_name": "Python 3 (ipykernel)",
   "language": "python",
   "name": "python3"
  },
  "language_info": {
   "codemirror_mode": {
    "name": "ipython",
    "version": 3
   },
   "file_extension": ".py",
   "mimetype": "text/x-python",
   "name": "python",
   "nbconvert_exporter": "python",
   "pygments_lexer": "ipython3",
   "version": "3.9.6"
  }
 },
 "nbformat": 4,
 "nbformat_minor": 5
}
